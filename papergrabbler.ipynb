{
 "cells": [
  {
   "cell_type": "markdown",
   "metadata": {},
   "source": [
    "https://bitbucket.org/richardpenman/browsercookie\n",
    "\n",
    "Sciencedirect does a cookie-based authentification. Thus you need to send the respective cookies with the request.\n",
    "The ANONDRA_COOKIE seems to be responsible for login, however, to be sure we just send all available cookies for sciencedirect with the request.\n",
    "For finding the sciencedirect cookies, I used browsercookie to get *all* available cookies on the computer (or at least a lot). In theory you could add that whole cookiejar to the request, but I thought it is nicer to send only the cookies for that domain (Does requests.get() actually blow all the cookies out into the wild or only those specific for the domain?) So I try endlessly until I found a relatively short version. Apparantly, retrieving cookies from your computer and cleaning a cookiejar are not standard tasks.\n"
   ]
  },
  {
   "cell_type": "code",
   "execution_count": 1,
   "metadata": {},
   "outputs": [],
   "source": [
    "import os, glob\n",
    "import urllib\n",
    "import requests\n",
    "import lxml.html\n",
    "import browsercookie\n",
    "import re\n",
    "import string\n",
    "import http.cookiejar\n",
    "import subprocess"
   ]
  },
  {
   "cell_type": "code",
   "execution_count": 4,
   "metadata": {},
   "outputs": [
    {
     "name": "stdout",
     "output_type": "stream",
     "text": [
      "C:\\Users\\Stefan Boltzmann\\Documents\\Literatur\\\n"
     ]
    }
   ],
   "source": [
    "path = os.path.join(os.path.expanduser('~'), 'Documents', 'Literatur')+os.path.sep\n",
    "print(path)\n",
    "cj = browsercookie.load()\n",
    "user_agent = 'Mozilla/5.0 (Windows NT 10.0; Win64; x64; rv:62.0)'"
   ]
  },
  {
   "cell_type": "code",
   "execution_count": 3,
   "metadata": {},
   "outputs": [
    {
     "name": "stdout",
     "output_type": "stream",
     "text": [
      "<CookieJar[<Cookie AMCV_4D6368F454EC41940A4C98A6%40AdobeOrg=2096510701%7CMCIDTS%7C17576%7CMCMID%7C88478019393280596753794609358934452507%7CMCAID%7CNONE%7CMCOPTOUT-1518562007s%7CNONE%7CMCAAMLH-1519159607%7C6%7CMCAAMB-1519159607%7Cj8Odv6LonN4r3an7LhD3WZrU1bUpAkFkkiY1ncBR96t2PTI%7CMCSYNCSOP%7C411-17583%7CvVersion%7C2.0.0 for .sciencedirect.com/>, <Cookie ANONRA_COOKIE=E67072C6D9DA673BA0938E3725B6D3764C8396F1DC3F52B22BFEA1A28F426D5E8A6AF4FE369FD210663A5B7C8DBCA1E174F2AE2D64780FC1 for .sciencedirect.com/>, <Cookie EUID=4ce2724b-d76e-40cf-8e7e-5c6acceaaed5 for .sciencedirect.com/>, <Cookie SD_ORCH=B9EB07B84A0FDA1D0583D0281DD3F5A970B60710F842C3E9B1AD19947A1FCD1C for .sciencedirect.com/>, <Cookie SD_REMOTEACCESS_GL=2f82b3241cca23c868af74a73683337d8bfab1fd8437504c for .sciencedirect.com/>, <Cookie ak_bmsc=E8B82027EB5C7156855C9AD613E1F28D686BD9AD372700006A3FAF5B29DD1D57~pleWSozFH4xYvmjf6nneqLiK+iq7CXlftnr6+0yte4Gphm91yS5VWYTyJayxI7jf+5YetJ315gNopvYwVzZ5nrsV63dpTzEakvclKkO5kNlxi1TvHCK5omCFtAfrys1a9o8mbquny2RdTbKCT7o8YODVNyFGh3BRDA/pliq9uujpPfovynhiSp+7h1UokcSDA9zGIAOUBLm284tFrCbPITxD6dQrPoxqROYRhjUsVKR5g= for .sciencedirect.com/>, <Cookie bm_sv=DF28D62011108C0A43D912006F4EBEA5~mfeRlg8+A4NryV7ogbSwWs8bovTCPrNLH0FDV6h/C2/iXMttW7oFcaTOJcG+XvOrCw7au6IjJ7rGLweefDCvgT4pQRdp/8inSckWsiogmkkASuFWwUzP/pL+TA+fLBjKpvfHGq9y2/+xva01mnHeaXos3ASzZXdM8QfFC5niJz8= for .sciencedirect.com/>, <Cookie optimizelyBuckets=%7B%7D for .sciencedirect.com/>, <Cookie optimizelyEndUserId=oeu1518554806113r0.8657843591965568 for .sciencedirect.com/>, <Cookie optimizelySegments=%7B%22204658328%22%3A%22false%22%2C%22204728159%22%3A%22none%22%2C%22204736122%22%3A%22direct%22%2C%22204775011%22%3A%22ff%22%7D for .sciencedirect.com/>, <Cookie s_pers=%20v8%3D1518554974297%7C1613162974297%3B%20v8_s%3DFirst%2520Visit%7C1518556774297%3B%20c19%3Dsd%253Aproduct%253Ajournal%253Aarticle%7C1518556774300%3B%20v68%3D1518554972360%7C1518556774310%3B for .sciencedirect.com/>, <Cookie sid=d8b69ca2-45b8-434b-aa71-dc277d44434e for .sciencedirect.com/>, <Cookie utt=69c6-cb5be470b515104dca5-aabad5249ac44be4-a for .sciencedirect.com/>]>\n"
     ]
    }
   ],
   "source": [
    "pattern = 'sciencedirect'\n",
    "k = list(cj._cookies.keys())\n",
    "for domain in k:\n",
    "    if pattern not in domain:\n",
    "        cj.clear(domain)\n",
    "print(cj)"
   ]
  },
  {
   "cell_type": "code",
   "execution_count": 4,
   "metadata": {},
   "outputs": [
    {
     "name": "stdout",
     "output_type": "stream",
     "text": [
      "True\n"
     ]
    }
   ],
   "source": [
    "url = \"http://www.sciencedirect.com/science/article/pii/S037702731830129X\"\n",
    "header = {'User-Agent' :user_agent}\n",
    "r = requests.get(url, headers=header, cookies=cj)\n",
    "print(\"citation_pdf_url\" in r.text)\n",
    "lines = r.text.splitlines()\n",
    "#print(lines)"
   ]
  },
  {
   "cell_type": "code",
   "execution_count": 5,
   "metadata": {},
   "outputs": [
    {
     "name": "stdout",
     "output_type": "stream",
     "text": [
      "22\n",
      "https://www.sciencedirect.com/science/article/pii/S037702731830129X/pdfft?md5=ed9673a5d8599a1bcf4a26357d3c8604&pid=1-s2.0-S037702731830129X-main.pdf\n",
      "2018/05/30\n",
      "Physical and mechanical property relationships of a shallow intrusion and volcanic host rock, Pinnacle Ridge, Mt. Ruapehu, New Zealand\n",
      "Mordensky\n",
      "C:\\Users\\Stefan Boltzmann\\Documents\\Literatur\\Mordensky_2018_Physical-and-mechanical-property-relationships-of-a-shallow-intrusion-and-v.pdf\n"
     ]
    }
   ],
   "source": [
    "dom = lxml.html.fromstring(r.text)\n",
    "#meta = dom.xpath('//meta/@name')\n",
    "metas = dom.findall('head/meta')# get_element_by_id('citation_pdf_url')\n",
    "\n",
    "foundtitle=False\n",
    "founddate=False\n",
    "foundpdf=False\n",
    "print(len(metas))\n",
    "\n",
    "while ~(foundtitle and founddate and foundpdf) and len(metas)>0:\n",
    "    litem = metas.pop()\n",
    "    meta = dict(litem.items())\n",
    "    #print(meta.values())\n",
    "    if 'citation_pdf_url' in meta.values() :\n",
    "        pdflink = meta['content']\n",
    "        foundpdf = True\n",
    "    elif 'citation_online_date' in meta.values():\n",
    "        date = meta['content']\n",
    "        founddate = True\n",
    "    elif 'citation_title' in meta.values():\n",
    "        title = meta['content']\n",
    "        foundtitle = True\n",
    "        \n",
    "#print(foundpdf, founddate, foundtitle)\n",
    "print(pdflink, date, title, sep='\\n')\n",
    "author = [author.text for author in dom.find_class('text surname')][0]\n",
    "print(author)\n",
    "\n",
    "repl_punct = str.maketrans(' ', ' ', string.punctuation)\n",
    "title = title.translate(repl_punct).replace(' ', '-')\n",
    "\n",
    "year, month, day = date.split('/')\n",
    "\n",
    "pdfname = '{}{}_{}_{}.pdf'.format(path, author, year, title[:75])\n",
    "print(pdfname)"
   ]
  },
  {
   "cell_type": "code",
   "execution_count": 6,
   "metadata": {},
   "outputs": [],
   "source": [
    "params = {'download':'True', 'isDTMRedir':'True'}\n",
    "pdf = requests.get(pdflink, headers=header, cookies=cj, allow_redirects=True, params=params)\n",
    "with open(pdfname, 'wb') as f:\n",
    "    f.write(pdf. content)"
   ]
  },
  {
   "cell_type": "code",
   "execution_count": 6,
   "metadata": {},
   "outputs": [],
   "source": [
    "params = {'format': 'text/x-bibtex', 'pii':url.split('/')[-1], 'withabstract':'true'}\n",
    "citation_url = 'https://www.sciencedirect.com/sdfe/arp/cite'\n",
    "bibtex = requests.get(citation_url, headers=header, params=params)\n",
    "with open(path+'tmp.bibtex', 'w') as f:\n",
    "    f.write(bibtex.content.decode( 'ascii', errors='ignore'))"
   ]
  },
  {
   "cell_type": "code",
   "execution_count": null,
   "metadata": {},
   "outputs": [],
   "source": [
    "pathitems =  \"\\AppData\\Local\\JabRef\".split('\\\\')\n",
    "path2jabref =  os.path.join(os.path.expanduser('~'), *pathitems) + os.path.sep\n",
    "subprocess.run(['java','-jar', path2jabref+'JabRef-4.3.1.jar', '--importToOpen', path+'tmp.bibtex' ])"
   ]
  },
  {
   "cell_type": "code",
   "execution_count": 14,
   "metadata": {},
   "outputs": [
    {
     "data": {
      "text/plain": [
       "'C:\\\\AppData\\\\Local\\\\JabRef'"
      ]
     },
     "execution_count": 14,
     "metadata": {},
     "output_type": "execute_result"
    }
   ],
   "source": [
    "path2jabref"
   ]
  },
  {
   "cell_type": "code",
   "execution_count": null,
   "metadata": {},
   "outputs": [],
   "source": [
    "\"C:\\\\Users\\Stefan Boltzmann\\AppData\\Local\\JabRef\""
   ]
  },
  {
   "cell_type": "code",
   "execution_count": 7,
   "metadata": {},
   "outputs": [
    {
     "data": {
      "text/plain": [
       "'C:\\\\Users\\\\Stefan Boltzmann'"
      ]
     },
     "execution_count": 7,
     "metadata": {},
     "output_type": "execute_result"
    }
   ],
   "source": [
    "os.path.expanduser('~')"
   ]
  },
  {
   "cell_type": "code",
   "execution_count": 13,
   "metadata": {},
   "outputs": [
    {
     "data": {
      "text/plain": [
       "['C:\\\\Users\\\\Stefan Boltzmann\\\\Lokale Einstellungen\\\\JabRef']"
      ]
     },
     "execution_count": 13,
     "metadata": {},
     "output_type": "execute_result"
    }
   ],
   "source": [
    "glob.glob(os.path.expanduser('~')+'/*/JabRef', recursive=False)"
   ]
  },
  {
   "cell_type": "code",
   "execution_count": null,
   "metadata": {},
   "outputs": [],
   "source": [
    "os.path.expandvars() , '--importToOpen', path+'tmp.bibtex'"
   ]
  }
 ],
 "metadata": {
  "kernelspec": {
   "display_name": "Python 3",
   "language": "python",
   "name": "python3"
  },
  "language_info": {
   "codemirror_mode": {
    "name": "ipython",
    "version": 3
   },
   "file_extension": ".py",
   "mimetype": "text/x-python",
   "name": "python",
   "nbconvert_exporter": "python",
   "pygments_lexer": "ipython3",
   "version": "3.6.6"
  }
 },
 "nbformat": 4,
 "nbformat_minor": 2
}
