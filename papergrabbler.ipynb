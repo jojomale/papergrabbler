{
 "cells": [
  {
   "cell_type": "markdown",
   "metadata": {},
   "source": [
    "https://bitbucket.org/richardpenman/browsercookie\n",
    "\n",
    "Sciencedirect does a cookie-based authentification. Thus you need to send the respective cookies with the request.\n",
    "The ANONDRA_COOKIE seems to be responsible for login, however, to be sure we just send all available cookies for sciencedirect with the request.\n",
    "For finding the sciencedirect cookies, I used browsercookie to get *all* available cookies on the computer (or at least a lot). In theory you could add that whole cookiejar to the request, but I thought it is nicer to send only the cookies for that domain (Does requests.get() actually blow all the cookies out into the wild or only those specific for the domain?) So I try endlessly until I found a relatively short version. Apparantly, retrieving cookies from your computer and cleaning a cookiejar are not standard tasks.\n"
   ]
  },
  {
   "cell_type": "code",
   "execution_count": 674,
   "metadata": {},
   "outputs": [],
   "source": [
    "import os, glob\n",
    "import urllib\n",
    "import requests\n",
    "import lxml.html\n",
    "import browsercookie\n",
    "import re\n",
    "import string\n",
    "import http.cookiejar"
   ]
  },
  {
   "cell_type": "code",
   "execution_count": 675,
   "metadata": {},
   "outputs": [],
   "source": [
    "cj = browsercookie.load()\n",
    "user_agent = 'Mozilla/5.0 (Windows NT 10.0; Win64; x64; rv:62.0)'"
   ]
  },
  {
   "cell_type": "code",
   "execution_count": 676,
   "metadata": {},
   "outputs": [
    {
     "name": "stdout",
     "output_type": "stream",
     "text": [
      "<CookieJar[<Cookie AMCV_4D6368F454EC41940A4C98A6%40AdobeOrg=2096510701%7CMCIDTS%7C17576%7CMCMID%7C88478019393280596753794609358934452507%7CMCAID%7CNONE%7CMCOPTOUT-1518562007s%7CNONE%7CMCAAMLH-1519159607%7C6%7CMCAAMB-1519159607%7Cj8Odv6LonN4r3an7LhD3WZrU1bUpAkFkkiY1ncBR96t2PTI%7CMCSYNCSOP%7C411-17583%7CvVersion%7C2.0.0 for .sciencedirect.com/>, <Cookie ANONRA_COOKIE=E67072C6D9DA673BA0938E3725B6D3764C8396F1DC3F52B22BFEA1A28F426D5E8A6AF4FE369FD210663A5B7C8DBCA1E174F2AE2D64780FC1 for .sciencedirect.com/>, <Cookie EUID=4ce2724b-d76e-40cf-8e7e-5c6acceaaed5 for .sciencedirect.com/>, <Cookie SD_ORCH=B9EB07B84A0FDA1D0583D0281DD3F5A970B60710F842C3E9B1AD19947A1FCD1C for .sciencedirect.com/>, <Cookie SD_REMOTEACCESS_GL=2f82b3241cca23c868af74a73683337d8bfab1fd8437504c for .sciencedirect.com/>, <Cookie ak_bmsc=ECE6E2D5A71F21FB73FC439D169A64CC686BD9A6885B000046E2AC5B4553FE46~plN8G+UQoR3y1e2O+cZEJU8aFmyuCHtQLzoLQOytM8pfEX4Ef/KqnZRJcMbk/4PRzeMCa/Oz1g2P0OzImJz03/mD3SyiOWivbGTxpnkCR0fKPFNXx2b718rTNObs8vBinlwRH55Vb8FFhwBIBdwNjpH1FoBrFFaMVI8+TYrHO5DBmNUyYEEdR8qALqU42m6jcTjCnbgEZLWgJCM7YjuE3r3T3BfIjr6PgGBdmNxltSRbU= for .sciencedirect.com/>, <Cookie bm_sv=8263FE38EA673F6F9327E7A1086A73E5~9QZDpuqqRLnQGdHLVrEr0f0qcmwK5NIJ6i0wwqJJZP3PV7tIYvVDIqTpzA9JkWLJxt9tfocHIVWu0qd+15ZYTnvCjJay/kdibcB18R4KQmtAk4v6HfPxu6yHyU3nJ47eMGKNc1lHAJvFcRlXJsuZV/ugxoQn0IjD0zNMbAFJyfY= for .sciencedirect.com/>, <Cookie optimizelyBuckets=%7B%7D for .sciencedirect.com/>, <Cookie optimizelyEndUserId=oeu1518554806113r0.8657843591965568 for .sciencedirect.com/>, <Cookie optimizelySegments=%7B%22204658328%22%3A%22false%22%2C%22204728159%22%3A%22none%22%2C%22204736122%22%3A%22direct%22%2C%22204775011%22%3A%22ff%22%7D for .sciencedirect.com/>, <Cookie s_pers=%20v8%3D1518554974297%7C1613162974297%3B%20v8_s%3DFirst%2520Visit%7C1518556774297%3B%20c19%3Dsd%253Aproduct%253Ajournal%253Aarticle%7C1518556774300%3B%20v68%3D1518554972360%7C1518556774310%3B for .sciencedirect.com/>, <Cookie sid=d8b69ca2-45b8-434b-aa71-dc277d44434e for .sciencedirect.com/>, <Cookie utt=69c6-cb5be470b515104dca5-aabad5249ac44be4-a for .sciencedirect.com/>]>\n"
     ]
    }
   ],
   "source": [
    "pattern = 'sciencedirect'\n",
    "k = list(cj._cookies.keys())\n",
    "for domain in k:\n",
    "    if pattern not in domain:\n",
    "        cj.clear(domain)\n",
    "print(cj)"
   ]
  },
  {
   "cell_type": "code",
   "execution_count": 677,
   "metadata": {},
   "outputs": [
    {
     "name": "stdout",
     "output_type": "stream",
     "text": [
      "True\n"
     ]
    }
   ],
   "source": [
    "header = {'User-Agent' :user_agent}\n",
    "r = requests.get(url, headers=header, cookies=mycj)\n",
    "print(\"citation_pdf_url\" in r.text)\n",
    "lines = r.text.splitlines()\n",
    "#print(lines)"
   ]
  },
  {
   "cell_type": "code",
   "execution_count": 678,
   "metadata": {},
   "outputs": [
    {
     "name": "stdout",
     "output_type": "stream",
     "text": [
      "22\n",
      "https://www.sciencedirect.com/science/article/pii/S037702731830129X/pdfft?md5=ed9673a5d8599a1bcf4a26357d3c8604&pid=1-s2.0-S037702731830129X-main.pdf\n",
      "2018/05/30\n",
      "Physical and mechanical property relationships of a shallow intrusion and volcanic host rock, Pinnacle Ridge, Mt. Ruapehu, New Zealand\n",
      "Mordensky\n",
      "Mordensky_2018_Physical-and-mechanical-property-relationships-of-a-shallow-intrusion-and-v.pdf\n"
     ]
    }
   ],
   "source": [
    "dom = lxml.html.fromstring(r.text)\n",
    "#meta = dom.xpath('//meta/@name')\n",
    "metas = dom.findall('head/meta')# get_element_by_id('citation_pdf_url')\n",
    "\n",
    "foundtitle=False\n",
    "founddate=False\n",
    "foundpdf=False\n",
    "print(len(metas))\n",
    "\n",
    "while ~(foundtitle and founddate and foundpdf) and len(metas)>0:\n",
    "    litem = metas.pop()\n",
    "    meta = dict(litem.items())\n",
    "    #print(meta.values())\n",
    "    if 'citation_pdf_url' in meta.values() :\n",
    "        pdflink = meta['content']\n",
    "        foundpdf = True\n",
    "    elif 'citation_online_date' in meta.values():\n",
    "        date = meta['content']\n",
    "        founddate = True\n",
    "    elif 'citation_title' in meta.values():\n",
    "        title = meta['content']\n",
    "        foundtitle = True\n",
    "        \n",
    "#print(foundpdf, founddate, foundtitle)\n",
    "print(pdflink, date, title, sep='\\n')\n",
    "author = [author.text for author in dom.find_class('text surname')][0]\n",
    "print(author)\n",
    "\n",
    "repl_punct = str.maketrans(' ', ' ', string.punctuation)\n",
    "title = title.translate(repl_punct).replace(' ', '-')\n",
    "\n",
    "year, month, day = date.split('/')\n",
    "\n",
    "pdfname = '{}_{}_{}.pdf'.format(author, year, title[:75])\n",
    "print(pdfname)"
   ]
  },
  {
   "cell_type": "code",
   "execution_count": 679,
   "metadata": {},
   "outputs": [],
   "source": [
    "params = {'download':'True', 'isDTMRedir':'True'}\n",
    "pdf = requests.get(pdflink, headers=header, cookies=cj, allow_redirects=True, params=params)\n",
    "with open(pdfname, 'wb') as f:\n",
    "    f.write(pdf. content)"
   ]
  },
  {
   "cell_type": "code",
   "execution_count": 680,
   "metadata": {},
   "outputs": [
    {
     "data": {
      "text/plain": [
       "['@article{MORDENSKY20181,',\n",
       " 'title = \"Physical and mechanical property relationships of a shallow intrusion and volcanic host rock, Pinnacle Ridge, Mt. Ruapehu, New Zealand\",',\n",
       " 'journal = \"Journal of Volcanology and Geothermal Research\",',\n",
       " 'volume = \"359\",',\n",
       " 'pages = \"1 - 20\",',\n",
       " 'year = \"2018\",',\n",
       " 'issn = \"0377-0273\",',\n",
       " 'doi = \"https://doi.org/10.1016/j.jvolgeores.2018.05.020\",',\n",
       " 'url = \"http://www.sciencedirect.com/science/article/pii/S037702731830129X\",',\n",
       " 'author = \"S.P. Mordensky and M.C. Villeneuve and B.M. Kennedy and M.J. Heap and D.M. Gravley and J.I. Farquharson and T. Reuschlé\",',\n",
       " 'keywords = \"Geotechnical classification, Volcanic materials, Advanced argillic alteration, Volcanic permeability, Volcanic uniaxial compressive strength, Shallow intrusion\",',\n",
       " 'abstract = \"Shallow magmatic intrusions are prevalent in volcanic settings worldwide. Understanding how these intrusions interact and influence their volcanic host rocks is therefore relevant to many engineering geology, geothermal, and volcanological applications. In this study, we present the most comprehensive dataset for a shallow intrusion and its host rock in a volcanic setting to date, detailing the mechanical and physical properties of volcanic rocks from Pinnacle Ridge, Mt. Ruapehu, New Zealand. Based on the geomechanical properties of 194 measured samples, we identify seven geotechnical units: (1) unaltered dense coherent lava, (2) altered dense coherent lava, (3) unaltered brecciated lava margin, (4) altered brecciated lava margin, (5) unaltered intrusion, (6) altered intrusion, and (7) hydrothermal veining. We detail the mineralogy (andesite compositions ranging from primary to an advanced argillic alteration assemblage), porosity (0.7–31%), permeability (10−21–10−12\\u202fm2), elastic wave velocities (1994–5615\\u202fm/s), uniaxial compressive strength (1–332\\u202fMPa) of these geotechnical units. Our laboratory analyses indicate that primary lithology is the predominant control on the physical and mechanical properties of the geotechnical units. Additionally, the data suggest that there is a correlation between distance to the largest intrusion; this is particularly evident for the measurements on the brecciated lava margin samples. Towards the largest intrusion, this breccia shows decreasing porosity (30.92 to 5.49%) and permeability (10−12 to 10−17\\u202fm2) and increasing elastic wave velocities (1994 to 4157\\u202fm/s) and uniaxial compressive strength (3 to 61\\u202fMPa). Thin-section analysis suggests that these correlations are due to mineral precipitation within fractures and pores in the brecciated lava margins. These correlations with distance to the largest intrusion are not shared by the altered intrusions or dense coherent lavas. We suggest that the high primary permeability of the unaltered breccia facilitated efficient hydrothermal fluid circulation and mineral precipitation adjacent to the intrusion. The other geotechnical units are less affected because hydrothermal fluid flow, alteration, and mineral precipitation were limited due to low initial permeability (10−21–10−16\\u202fm2). Our study shows that the initial properties of the host rock (i.e. porosity and permeability) control the extent of hydrothermal alteration and the susceptibility to modifications of rock geomechanical properties. Modifications to porosity and permeability can influence edifice-scale behaviour; for example, a reduction in permeability can result in pore pressure augmentation, which exerts a primary control on volcanic slope stability, seismicity, and eruptive behaviour. This study provides the most comprehensive and complete geomechanical properties data suite on a shallow intrusion in volcanic host rock to date and will support monitoring and modelling of volcanic hazards associated with shallow igneous intrusions.\"',\n",
       " '}']"
      ]
     },
     "execution_count": 680,
     "metadata": {},
     "output_type": "execute_result"
    }
   ],
   "source": [
    "params = {'format': 'text/x-bibtex', 'pii':url.split('/')[-1], 'withabstract':'true'}\n",
    "citation_url = 'https://www.sciencedirect.com/sdfe/arp/cite'\n",
    "bibtex = requests.get(citation_url, headers=header, params=params)\n",
    "bibtex.text.splitlines()"
   ]
  },
  {
   "cell_type": "code",
   "execution_count": null,
   "metadata": {},
   "outputs": [],
   "source": []
  }
 ],
 "metadata": {
  "kernelspec": {
   "display_name": "Python 3",
   "language": "python",
   "name": "python3"
  },
  "language_info": {
   "codemirror_mode": {
    "name": "ipython",
    "version": 3
   },
   "file_extension": ".py",
   "mimetype": "text/x-python",
   "name": "python",
   "nbconvert_exporter": "python",
   "pygments_lexer": "ipython3",
   "version": "3.6.6"
  }
 },
 "nbformat": 4,
 "nbformat_minor": 2
}
