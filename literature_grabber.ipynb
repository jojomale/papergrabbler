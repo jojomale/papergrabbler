{
 "cells": [
  {
   "cell_type": "code",
   "execution_count": 4,
   "metadata": {},
   "outputs": [],
   "source": [
    "import wget\n",
    "import wsgiref\n",
    "import requests\n",
    "import urllib.parse as parse\n",
    "import lxml.html\n",
    "import urllib\n",
    "import string\n",
    "\n",
    "header = {'user-agent': 'Mozilla'}"
   ]
  },
  {
   "cell_type": "code",
   "execution_count": 4,
   "metadata": {},
   "outputs": [
    {
     "data": {
      "text/plain": [
       "'gji.pdf'"
      ]
     },
     "execution_count": 4,
     "metadata": {},
     "output_type": "execute_result"
    }
   ],
   "source": [
    "fname = \"https://academic.oup.com/gji/article-pdf/215/2/942/25504851/ggy316.pdf\"\n",
    "\n",
    "wget.download(fname, out='gji.pdf')"
   ]
  },
  {
   "cell_type": "code",
   "execution_count": 47,
   "metadata": {},
   "outputs": [],
   "source": [
    "r = requests.post('http://httpbin.org/post', data = {'key':'value'})\n",
    "\n"
   ]
  },
  {
   "cell_type": "code",
   "execution_count": 48,
   "metadata": {},
   "outputs": [
    {
     "data": {
      "text/plain": [
       "b'{\\n  \"args\": {}, \\n  \"data\": \"\", \\n  \"files\": {}, \\n  \"form\": {\\n    \"key\": \"value\"\\n  }, \\n  \"headers\": {\\n    \"Accept\": \"*/*\", \\n    \"Accept-Encoding\": \"gzip, deflate\", \\n    \"Connection\": \"close\", \\n    \"Content-Length\": \"9\", \\n    \"Content-Type\": \"application/x-www-form-urlencoded\", \\n    \"Host\": \"httpbin.org\", \\n    \"User-Agent\": \"python-requests/2.18.4\"\\n  }, \\n  \"json\": null, \\n  \"origin\": \"134.245.134.211\", \\n  \"url\": \"http://httpbin.org/post\"\\n}\\n'"
      ]
     },
     "execution_count": 48,
     "metadata": {},
     "output_type": "execute_result"
    }
   ],
   "source": [
    "wget."
   ]
  },
  {
   "cell_type": "code",
   "execution_count": 136,
   "metadata": {},
   "outputs": [],
   "source": [
    "dest = \"https://academic.oup.com/gji/downloadcitation/5061121\"\n",
    "r = requests.get(dest, headers={'user-agent': 'Mozilla'}, params={'format':'bibtex'}) #, allow_redirects=True)"
   ]
  },
  {
   "cell_type": "code",
   "execution_count": 137,
   "metadata": {},
   "outputs": [
    {
     "data": {
      "text/plain": [
       "[b'@article{doi:10.1093/gji/ggy316,',\n",
       " b'author = {Fan, Wenyuan and de\\xc2\\xa0Groot-Hedlin, Catherine D and Hedlin, Michael A H and Ma, Zhitu},',\n",
       " b'title = {Using surface waves recorded by a large mesh of three-element arrays to detect and locate disparate seismic sources},',\n",
       " b'journal = {Geophysical Journal International},',\n",
       " b'volume = {215},',\n",
       " b'number = {2},',\n",
       " b'pages = {942-958},',\n",
       " b'year = {2018},',\n",
       " b'doi = {10.1093/gji/ggy316},',\n",
       " b'URL = {http://dx.doi.org/10.1093/gji/ggy316},',\n",
       " b'eprint = {/oup/backfile/content_public/journal/gji/215/2/10.1093_gji_ggy316/2/ggy316.pdf}',\n",
       " b'}']"
      ]
     },
     "execution_count": 137,
     "metadata": {},
     "output_type": "execute_result"
    }
   ],
   "source": [
    "r.content.splitlines()"
   ]
  },
  {
   "cell_type": "code",
   "execution_count": 114,
   "metadata": {},
   "outputs": [],
   "source": [
    "doiurl = 'https://doi.org/10.1093/gji/ggy316'\n",
    "dr = requests.get(doiurl, headers={'user-agent': 'Mozilla'})"
   ]
  },
  {
   "cell_type": "code",
   "execution_count": 118,
   "metadata": {},
   "outputs": [],
   "source": [
    "article_url = 'https://academic.oup.com/gji/article/215/2/942/5061121'"
   ]
  },
  {
   "cell_type": "code",
   "execution_count": 143,
   "metadata": {},
   "outputs": [
    {
     "name": "stdout",
     "output_type": "stream",
     "text": [
      "SplitResult(scheme='https', netloc='academic.oup.com', path='/gji/article/215/2/942/5061121', query='', fragment='')\n",
      "https://academic.oup.com/gji/downloadcitation/5061121\n",
      "https://academic.oup.com/gji/article-pdf/215/2/942/5061121\n"
     ]
    }
   ],
   "source": [
    "p = parse.urlsplit(article_url)\n",
    "print(p)\n",
    "journal = p.path.split('/')[1]\n",
    "article_id = p.path.split('/')[-1]\n",
    "cit_path = '/'+journal+'/downloadcitation/'+article_id\n",
    "cit_url = parse.urlunsplit((p.scheme, p.netloc, cit_path, p.query, p.fragment))\n",
    "\n",
    "pdf_path = p.path.replace('article', 'article-pdf')\n",
    "pdf_url = parse.urlunsplit((p.scheme, p.netloc, pdf_path, p.query, p.fragment))\n",
    "print(cit_url)\n",
    "print(pdf_url)"
   ]
  },
  {
   "cell_type": "markdown",
   "metadata": {},
   "source": [
    "# Working flow for GJI"
   ]
  },
  {
   "cell_type": "code",
   "execution_count": 385,
   "metadata": {},
   "outputs": [],
   "source": [
    "article_url = 'https://academic.oup.com/gji/article/215/2/1037/5061122'\n",
    "\n",
    "\n",
    "url_elems = parse.urlsplit(article_url)\n",
    "website = requests.get(article_url, headers=header)\n",
    "\n",
    "dom =  lxml.html.fromstring(website.text)\n",
    "dom.make_links_absolute(parse.urlunsplit((url_elems.scheme, url_elems.netloc,'', '', '')))"
   ]
  },
  {
   "cell_type": "code",
   "execution_count": 386,
   "metadata": {},
   "outputs": [
    {
     "name": "stdout",
     "output_type": "stream",
     "text": [
      "https://academic.oup.com/gji/downloadcitation/5061122?format=bibtex\n",
      "https://academic.oup.com/gji/article-pdf/215/2/1037/25602679/ggy310.pdf\n"
     ]
    }
   ],
   "source": [
    "links = dom.xpath('//a/@href')\n",
    "\n",
    "foundpdf = False\n",
    "foundbibtex = False\n",
    "\n",
    "while not (foundpdf and foundbibtex):\n",
    "    link = links.pop()\n",
    "    if 'article-pdf' in link:\n",
    "        link2pdf = link\n",
    "        foundpdf = True\n",
    "    elif 'format=bibtex' in link:\n",
    "        link2bibtex = link\n",
    "        foundbibtex = True\n",
    "print (link2bibtex)\n",
    "print(link2pdf)\n",
    "#for link in dom.xpath('//a/@href'): # select the url in href for all a tags(links)\n",
    "#    print (link)"
   ]
  },
  {
   "cell_type": "code",
   "execution_count": 388,
   "metadata": {},
   "outputs": [
    {
     "data": {
      "text/plain": [
       "[b'@article{doi:10.1093/gji/ggy310,',\n",
       " b'author = {Gao, Chao and Leki\\xc4\\x87, Vedran},',\n",
       " b'title = {Consequences of parametrization choices in surface wave inversion: insights from transdimensional Bayesian methods},',\n",
       " b'journal = {Geophysical Journal International},',\n",
       " b'volume = {215},',\n",
       " b'number = {2},',\n",
       " b'pages = {1037-1063},',\n",
       " b'year = {2018},',\n",
       " b'doi = {10.1093/gji/ggy310},',\n",
       " b'URL = {http://dx.doi.org/10.1093/gji/ggy310},',\n",
       " b'eprint = {/oup/backfile/content_public/journal/gji/215/2/10.1093_gji_ggy310/1/ggy310.pdf}',\n",
       " b'}']"
      ]
     },
     "execution_count": 388,
     "metadata": {},
     "output_type": "execute_result"
    }
   ],
   "source": [
    "cit_url = parse.splitquery(link2bibtex)[0]\n",
    "bibitem = requests.get(cit_url, headers={'user-agent': 'Mozilla'}, params={'format':'bibtex'})\n",
    "bibitem.content.splitlines()"
   ]
  },
  {
   "cell_type": "code",
   "execution_count": 405,
   "metadata": {},
   "outputs": [
    {
     "name": "stdout",
     "output_type": "stream",
     "text": [
      "Gao Consequences_of_parametrization_choices_in_surface_wave_inversion_insights_from_transdimensional_Bay 2018\n",
      "Gao-2018-Consequences_of_parametrization_choices_in_surface_wave_inversion_insights_from_transdimensional_Bay.pdf\n"
     ]
    },
    {
     "data": {
      "text/plain": [
       "'!\"#$%&\\'()*+,-./:;<=>?@[\\\\]^_`{|}~'"
      ]
     },
     "execution_count": 405,
     "metadata": {},
     "output_type": "execute_result"
    }
   ],
   "source": [
    "title = dom.find_class(\"wi-article-title article-title-main\")[0].text.strip()  # Get Title\n",
    "\n",
    "translator = str.maketrans('', '', string.punctuation)  # Remove punctuation characters\n",
    "title = title.translate(translator)\n",
    "title = title.replace(' ', '_')[:100]  # Use \"_\" instead of ehitespace for pdf-filename\n",
    "\n",
    "author = dom.find_class(\"linked-name\")[0].text.strip() # Get first author, remove whitespace\n",
    "author = author.split(' ')[-1]  # Keep only last name\n",
    "\n",
    "pdate = dom.find_class('citation-date')[0].text.strip()  # Get puplication date\n",
    "pday, pmonth, pyear = pdate.split(' ')  \n",
    "\n",
    "pretty_pdfname = '{}-{}-{}.pdf'.format(author, pyear, title)\n",
    "\n",
    "print(author, title, pyear)\n",
    "\n",
    "print(pretty_pdfname)\n",
    "\n",
    "string.punctuation\n",
    "#pdfclass = dom.find_class(\"article-pdfLink\")[0]\n",
    "#article_id = pdfclass.get('data-article-id')\n",
    "#pdflink = pdfclass.get('href')\n",
    "#print(pdflink)\n",
    "\n",
    "\n"
   ]
  },
  {
   "cell_type": "code",
   "execution_count": 409,
   "metadata": {},
   "outputs": [],
   "source": [
    "## Could also be done with wget in a one-liner but maybe wget not flexible enough?\n",
    "pdf = requests.get(link2pdf, headers={'user-agent': 'Mozilla'})\n",
    "with open(pretty_pdfname, 'wb') as f:\n",
    "    f.write(pdf.content)"
   ]
  },
  {
   "cell_type": "markdown",
   "metadata": {},
   "source": [
    "# AGU"
   ]
  },
  {
   "cell_type": "code",
   "execution_count": 517,
   "metadata": {},
   "outputs": [],
   "source": [
    "article_url = 'https://agupubs.onlinelibrary.wiley.com/doi/abs/10.1029/2018GL078991'\n",
    "url_elems = parse.urlsplit(article_url)\n",
    "website = requests.get(article_url, headers=header)\n",
    "\n",
    "dom =  lxml.html.fromstring(website.text)\n",
    "dom.make_links_absolute(parse.urlunsplit((url_elems.scheme, url_elems.netloc,'', '', '')))"
   ]
  },
  {
   "cell_type": "code",
   "execution_count": 518,
   "metadata": {},
   "outputs": [
    {
     "name": "stdout",
     "output_type": "stream",
     "text": [
      "https://agupubs.onlinelibrary.wiley.com/action/showCitFormats?doi=10.1029%2F2018GL078991\n",
      "https://agupubs.onlinelibrary.wiley.com/doi/pdf/10.1029/2018GL078991\n",
      "10.1029/2018GL078991\n"
     ]
    }
   ],
   "source": [
    "links = dom.xpath('//a/@href')\n",
    "\n",
    "foundpdf = False\n",
    "foundbibtex = True\n",
    "\n",
    "while not (foundpdf and foundbibtex):\n",
    "    link = links.pop()\n",
    "    if '/pdf/' in link:\n",
    "        link2pdf = link\n",
    "        foundpdf = True\n",
    "    elif '/action/showCitFormats' in link:  # Unnecessary\n",
    "        link2bibtex = link\n",
    "        foundbibtex = True\n",
    "print(link2bibtex)\n",
    "print(link2pdf)\n",
    "\n",
    "doi = link2pdf.split('/')[-2:]\n",
    "doi = '/'.join(doi)\n",
    "print(doi)"
   ]
  },
  {
   "cell_type": "code",
   "execution_count": 421,
   "metadata": {},
   "outputs": [],
   "source": [
    "cit_query = 'https://agupubs.onlinelibrary.wiley.com/action/showCitFormats'\n",
    "r = requests.get(cit_query, headers=header, params={'doi':'10.1029%2F2018GL078991'})"
   ]
  },
  {
   "cell_type": "code",
   "execution_count": 467,
   "metadata": {},
   "outputs": [],
   "source": [
    "bibitem = requests.get('https://agupubs.onlinelibrary.wiley.com/action/downloadCitation', headers={'user-agent': 'Mozilla'}, params={'direct':'direct', 'doi':doi, 'downloadFileName':'pericles_19448007AxA', \n",
    "                                                                               'format':'bibtex', 'include':'abs', 'submit':'Download'})\n",
    "\n",
    "bibitem.text.strip().splitlines()"
   ]
  },
  {
   "cell_type": "code",
   "execution_count": 475,
   "metadata": {},
   "outputs": [
    {
     "data": {
      "text/plain": [
       "'How Fast Can We Reliably Estimate the Magnitude of Subduction Earthquakes?'"
      ]
     },
     "execution_count": 475,
     "metadata": {},
     "output_type": "execute_result"
    }
   ],
   "source": [
    "title = dom.find_class('citation__title')[0].text.strip()\n",
    "title"
   ]
  },
  {
   "cell_type": "code",
   "execution_count": 507,
   "metadata": {},
   "outputs": [],
   "source": [
    "author = dom.xpath('/html/body/div[1]/div/div[2]/div/div/div[2]/div/div/div/div/article/div/div[1]/div[2]/div/div[4]/div/div/div[1]/a/span')[0].text"
   ]
  },
  {
   "cell_type": "code",
   "execution_count": 516,
   "metadata": {},
   "outputs": [
    {
     "name": "stdout",
     "output_type": "stream",
     "text": [
      "10 September 2018\n"
     ]
    }
   ],
   "source": [
    "date = dom.find_class('epub-date')[0].text\n",
    "print(pdate)"
   ]
  },
  {
   "cell_type": "code",
   "execution_count": 515,
   "metadata": {},
   "outputs": [
    {
     "data": {
      "text/plain": [
       "'10 September 2018'"
      ]
     },
     "execution_count": 515,
     "metadata": {},
     "output_type": "execute_result"
    }
   ],
   "source": [
    "date[0].text"
   ]
  },
  {
   "cell_type": "markdown",
   "metadata": {},
   "source": [
    "# Elsevier ... sucks."
   ]
  },
  {
   "cell_type": "code",
   "execution_count": 9,
   "metadata": {},
   "outputs": [],
   "source": [
    "def get_page_content(article_url, headers=header):\n",
    "    url_elems = parse.urlsplit(article_url)\n",
    "    website = requests.get(article_url, headers=header)\n",
    "\n",
    "    dom =  lxml.html.fromstring(website.text)\n",
    "    dom.make_links_absolute(parse.urlunsplit((url_elems.scheme, url_elems.netloc,'', '', '')))\n",
    "    return dom\n",
    "\n",
    "\n",
    "def get_hrefs(dom, pdfmark, bibtexmark):\n",
    "    links = dom.xpath('//a/@href')\n",
    "\n",
    "    foundpdf = False\n",
    "    foundbibtex = True\n",
    "\n",
    "    while not (foundpdf and foundbibtex):\n",
    "        link = links.pop()\n",
    "        if pdfmark in link:\n",
    "            link2pdf = link\n",
    "            foundpdf = True\n",
    "        elif bibtexmark in link:  # Unnecessary\n",
    "            link2bibtex = link\n",
    "            foundbibtex = True\n",
    "    print(link2bibtex)\n",
    "    print(link2pdf)\n",
    "\n",
    "    doi = link2pdf.split('/')[-2:]\n",
    "    doi = '/'.join(doi)\n",
    "    print(doi)\n"
   ]
  },
  {
   "cell_type": "code",
   "execution_count": 17,
   "metadata": {},
   "outputs": [],
   "source": [
    "article_url = 'https://www.sciencedirect.com/science/article/pii/S0377027312001448?via%3Dihub'\n",
    "dom = get_page_content(article_url)"
   ]
  },
  {
   "cell_type": "code",
   "execution_count": 34,
   "metadata": {},
   "outputs": [
    {
     "data": {
      "text/plain": [
       "['https://www.sciencedirect.com#app',\n",
       " 'https://www.sciencedirect.com',\n",
       " 'https://www.sciencedirect.com',\n",
       " 'https://www.sciencedirect.com/',\n",
       " 'https://www.sciencedirect.com/browse/journals-and-books',\n",
       " 'https://www.sciencedirect.com/user/register?returnURL=%2Fscience%2Farticle%2Fpii%2FS0377027312001448',\n",
       " 'https://www.sciencedirect.com/user/login?returnURL=%2Fscience%2Farticle%2Fpii%2FS0377027312001448',\n",
       " 'https://service.elsevier.com/app/home/supporthub/sciencedirect/',\n",
       " 'https://www.sciencedirect.com',\n",
       " 'https://www.sciencedirect.com',\n",
       " 'https://www.sciencedirect.com/browse/journals-and-books',\n",
       " 'https://www.sciencedirect.com/user/register?returnURL=%2Fscience%2Farticle%2Fpii%2FS0377027312001448',\n",
       " 'https://www.sciencedirect.com/user/login?returnURL=%2Fscience%2Farticle%2Fpii%2FS0377027312001448',\n",
       " 'https://service.elsevier.com/app/home/supporthub/sciencedirect/',\n",
       " 'https://www.sciencedirect.com/search/advanced',\n",
       " 'https://www.sciencedirect.com/science/journal/03770273',\n",
       " 'https://www.sciencedirect.com/science/journal/03770273',\n",
       " 'https://www.sciencedirect.com/science/journal/03770273/235/supp/C',\n",
       " 'https://www.sciencedirect.com/science/journal/03770273/235/supp/C',\n",
       " 'https://www.sciencedirect.com#!',\n",
       " 'https://www.sciencedirect.com#!',\n",
       " 'https://www.sciencedirect.com#!',\n",
       " 'https://www.sciencedirect.com#!',\n",
       " 'https://www.sciencedirect.com#!',\n",
       " 'https://doi.org/10.1016/j.jvolgeores.2012.05.006',\n",
       " 'https://s100.copyright.com/AppDispatchServlet?publisherName=ELS&contentID=S0377027312001448&orderBeanReset=true',\n",
       " 'https://www.sciencedirect.com#bfn0005',\n",
       " 'https://plu.mx/plum/a/?doi=10.1016/j.jvolgeores.2012.05.006',\n",
       " 'https://www.elsevier.com/',\n",
       " 'https://www.elsevier.com/solutions/sciencedirect',\n",
       " 'https://www.sciencedirect.com/customer/authenticate/manra',\n",
       " 'https://www.sciencedirect.com/science?_ob=ShoppingCartURL&_method=display&md5=3ff44acb300f01481824c54a2973d019',\n",
       " 'https://service.elsevier.com/app/contact/supporthub/sciencedirect/',\n",
       " 'https://www.elsevier.com/legal/elsevier-website-terms-and-conditions',\n",
       " 'https://www.elsevier.com/legal/privacy-policy',\n",
       " 'https://www.elsevier.com/solutions/sciencedirect/support/cookies',\n",
       " 'https://www.relx.com/']"
      ]
     },
     "execution_count": 34,
     "metadata": {},
     "output_type": "execute_result"
    }
   ],
   "source": [
    "links = dom.xpath('//a/@href')\n",
    "links"
   ]
  },
  {
   "cell_type": "code",
   "execution_count": 33,
   "metadata": {},
   "outputs": [
    {
     "data": {
      "text/plain": [
       "[]"
      ]
     },
     "execution_count": 33,
     "metadata": {},
     "output_type": "execute_result"
    }
   ],
   "source": [
    "p = dom.find_class('PdfDropDownMenu')\n",
    "p"
   ]
  },
  {
   "cell_type": "code",
   "execution_count": 35,
   "metadata": {},
   "outputs": [],
   "source": [
    "aurl = 'https://www.sciencedirect.com/science/article/pii/S0377027312001448/pdfft' # ?md5=6db53957edf22d0f5a49fa0250e6be31&pid=1-s2.0-S0377027312001448-main.pdf\n",
    "site = get_page_content(aurl)"
   ]
  },
  {
   "cell_type": "code",
   "execution_count": 42,
   "metadata": {},
   "outputs": [
    {
     "data": {
      "text/plain": [
       "['https://ac.els-cdn.com/S0377027312001448/1-s2.0-S0377027312001448-main.pdf?_tid=38960f33-9c2b-4cca-8f54-084e9fb09643&acdnat=1537953106_65c1e006d3587bb3b35a26d7049f9c1c']"
      ]
     },
     "execution_count": 42,
     "metadata": {},
     "output_type": "execute_result"
    }
   ],
   "source": [
    "site.xpath('//a/@href')"
   ]
  },
  {
   "cell_type": "code",
   "execution_count": 113,
   "metadata": {},
   "outputs": [],
   "source": [
    "base = 'https://www.sciencedirect.com'\n",
    "pdfref = base+\"/science/article/pii/S0377027312001448/pdfft?md5=6db53957edf22d0f5a49fa0250e6be31&amp;pid=1-s2.0-S0377027312001448-main.pdf\"\n",
    "url, query = parse.splitquery(pdfref)\n",
    "\n",
    "params = {}\n",
    "for param in query.split('&'):\n",
    "    params[param.split('=')[0]] = param.split('=')[1]\n",
    "\n",
    "r = requests.get(url, headers=header, params=params, allow_redirects=True, timeout=10 )"
   ]
  },
  {
   "cell_type": "code",
   "execution_count": 116,
   "metadata": {},
   "outputs": [
    {
     "data": {
      "text/plain": [
       "[b'<!DOCTYPE html>',\n",
       " b'<html class=\"no-js no-svg\" lang=\"en-US\">',\n",
       " b'    <head>',\n",
       " b'        <title>ScienceDirect.com | Science, health and medical journals, full text articles and books.</title>',\n",
       " b'',\n",
       " b'        <link rel=\"dns-prefetch\" href=\"//www.sciencedirect.com\"/>',\n",
       " b'        <link rel=\"canonical\" href=\"http://www.sciencedirect.com/\"/>',\n",
       " b'        <link rel=\"shortcut icon\" href=\"https://sdfestaticassets-us-east-1.sciencedirectassets.com/shared-assets/15/images/favSD.ico\" type=\"image/x-icon\"/>',\n",
       " b'        <link rel=\"icon\" href=\"https://sdfestaticassets-us-east-1.sciencedirectassets.com/shared-assets/15/images/favSD.ico\" type=\"image/x-icon\">',\n",
       " b'        <script id= \"adobe-dtm\" src=\"https://assets.adobedtm.com/376c5346e33126fdb6b2dbac81e307cbacfd7935/satelliteLib-b7cfe8df39a4e5eec5536bba80e13f4b6fa0dd7c.js\" type=\"text/javascript\"></script>',\n",
       " b'',\n",
       " b'    </head>',\n",
       " b'',\n",
       " b'    <body>',\n",
       " b'        <noscript>',\n",
       " b'            <div id=\"redirect-message\">',\n",
       " b'                <p>Please wait while you are being redirected, or click <a href=\"https://ac.els-cdn.com/S0377027312001448/1-s2.0-S0377027312001448-main.pdf?_tid=b30cb1e0-ca6c-435d-bd6e-53a18bff9118&acdnat=1537955752_cd90e2ee21736afb2c9c0335fe86296b\">here</a>',\n",
       " b\"                    if you aren't redirected in 10 seconds...</p>\",\n",
       " b'            </div>',\n",
       " b'        </noscript>',\n",
       " b'',\n",
       " b'            <iframe src=\"//acw.scopus.com/SSOCore/update?acw=5a2c5bdc2930c842287be1e2127b25a638bcgxrqa%7C%24%7C3A6D5146F72E94D3F0F401D9F8400F0AB9DA977EEB5A7B6FF028F9FB25A6F6A358DD2555E037A488425F57E2A02105C885606843BAF982DD3FBA44D1BD4E4F2EAFE9C31A29ED2080B6DA1F7CB1786ABB&utt=edc443677251661cdd931b2-c3ce7972bd393abc\" style=\"display:none;\"></iframe>',\n",
       " b'            <iframe src=\"//acw.sciencedirect.com/SSOCore/update?acw=5a2c5bdc2930c842287be1e2127b25a638bcgxrqa%7C%24%7C3A6D5146F72E94D3F0F401D9F8400F0AB9DA977EEB5A7B6FF028F9FB25A6F6A358DD2555E037A488425F57E2A02105C885606843BAF982DD3FBA44D1BD4E4F2EAFE9C31A29ED2080B6DA1F7CB1786ABB&utt=edc443677251661cdd931b2-c3ce7972bd393abc\" style=\"display:none;\"></iframe>',\n",
       " b'            <iframe src=\"//acw.mendeley.com/SSOCore/update?acw=5a2c5bdc2930c842287be1e2127b25a638bcgxrqa%7C%24%7C3A6D5146F72E94D3F0F401D9F8400F0AB9DA977EEB5A7B6FF028F9FB25A6F6A358DD2555E037A488425F57E2A02105C885606843BAF982DD3FBA44D1BD4E4F2EAFE9C31A29ED2080B6DA1F7CB1786ABB&utt=edc443677251661cdd931b2-c3ce7972bd393abc\" style=\"display:none;\"></iframe>',\n",
       " b'            <iframe src=\"//acw.sciverse.com/SSOCore/update?acw=5a2c5bdc2930c842287be1e2127b25a638bcgxrqa%7C%24%7C3A6D5146F72E94D3F0F401D9F8400F0AB9DA977EEB5A7B6FF028F9FB25A6F6A358DD2555E037A488425F57E2A02105C885606843BAF982DD3FBA44D1BD4E4F2EAFE9C31A29ED2080B6DA1F7CB1786ABB&utt=edc443677251661cdd931b2-c3ce7972bd393abc\" style=\"display:none;\"></iframe>',\n",
       " b'            <iframe src=\"//acw.evise.com/SSOCore/update?acw=5a2c5bdc2930c842287be1e2127b25a638bcgxrqa%7C%24%7C3A6D5146F72E94D3F0F401D9F8400F0AB9DA977EEB5A7B6FF028F9FB25A6F6A358DD2555E037A488425F57E2A02105C885606843BAF982DD3FBA44D1BD4E4F2EAFE9C31A29ED2080B6DA1F7CB1786ABB&utt=edc443677251661cdd931b2-c3ce7972bd393abc\" style=\"display:none;\"></iframe>',\n",
       " b'            <iframe src=\"//acw.elsevier.com/SSOCore/update?acw=5a2c5bdc2930c842287be1e2127b25a638bcgxrqa%7C%24%7C3A6D5146F72E94D3F0F401D9F8400F0AB9DA977EEB5A7B6FF028F9FB25A6F6A358DD2555E037A488425F57E2A02105C885606843BAF982DD3FBA44D1BD4E4F2EAFE9C31A29ED2080B6DA1F7CB1786ABB&utt=edc443677251661cdd931b2-c3ce7972bd393abc\" style=\"display:none;\"></iframe>',\n",
       " b'',\n",
       " b'        <script>',\n",
       " b'            window.onload = function () {',\n",
       " b\"                window.location = 'https://ac.els-cdn.com/S0377027312001448/1-s2.0-S0377027312001448-main.pdf?_tid=b30cb1e0-ca6c-435d-bd6e-53a18bff9118&acdnat=1537955752_cd90e2ee21736afb2c9c0335fe86296b';\",\n",
       " b'                refreshOriginalWindow();',\n",
       " b'            }',\n",
       " b'',\n",
       " b'            function refreshOriginalWindow() {',\n",
       " b'                var referrerPattern = /\\\\/user\\\\/(login|chooseorg|router|register|password)/;',\n",
       " b'                if (window.opener && window.opener.location && referrerPattern.test(document.referrer)) {',\n",
       " b'                    window.opener.location.reload(true);',\n",
       " b'                }',\n",
       " b'            }',\n",
       " b'        </script>',\n",
       " b'',\n",
       " b'        <meta name=\"SDTech\" content=\"Proudly brought to you by the SD Technology team in London, Dayton, and Amsterdam\">',\n",
       " b'        <script>',\n",
       " b'    var pageData = {',\n",
       " b'        page: {',\n",
       " b\"            businessUnit: 'ELS:RP:ST',\",\n",
       " b\"            isProduction: 'true',\",\n",
       " b\"            language: 'en',\",\n",
       " b\"            name: 'pdfft:pdf:url',\",\n",
       " b\"            productName: 'SD',\",\n",
       " b\"            environment: 'prod',\",\n",
       " b\"            noTracking: 'false',\",\n",
       " b\"            loadTime: '',\",\n",
       " b\"            loadTimestamp: '1537955572512',\",\n",
       " b\"            type: 'CP-CA'\",\n",
       " b'        },',\n",
       " b'        visitor: {',\n",
       " b\"            accessType: 'ae:ANON_IP',\",\n",
       " b\"            appSessionId: '5a2c5bdc2930c842287be1e2127b25a638bcgxrqa',\",\n",
       " b\"            accountId: 'ae:56415',\",\n",
       " b\"            accountName: 'ae:Kiel University Christian Albrecht',\",\n",
       " b\"            ipAddress: '134.245.134.211',\",\n",
       " b\"            loginStatus: 'anonymous',\",\n",
       " b\"            userId: 'ae:2387607'\",\n",
       " b'        },',\n",
       " b'        content: [',\n",
       " b'            {',\n",
       " b\"                entitlementType: 'subscription',\",\n",
       " b\"                format: 'MIME-PDF',\",\n",
       " b\"                id: 'sd:article:pii:S0377027312001448',\",\n",
       " b\"                type: 'SD:ARTICLE:JL:SCOPE-FULL',\",\n",
       " b\"                detail: 'SD:ARTICLE:subtype:fla:tool:n/a'\",\n",
       " b'            }',\n",
       " b'        ]',\n",
       " b'    };',\n",
       " b'    try {',\n",
       " b'        pageData.page.loadTime = performance ?',\n",
       " b'                (Math.round(performance.now())).toString() : \"\";',\n",
       " b'        pageDataTracker.trackPageLoad();',\n",
       " b'    }',\n",
       " b'    catch (e) {',\n",
       " b'        console.warn(\"There was an error loading or running Adobe DTM:\\\\r\\\\n \", e);',\n",
       " b'    }',\n",
       " b'</script>',\n",
       " b'',\n",
       " b'    </body>',\n",
       " b'</html>']"
      ]
     },
     "execution_count": 116,
     "metadata": {},
     "output_type": "execute_result"
    }
   ],
   "source": [
    "r.content.splitlines()"
   ]
  },
  {
   "cell_type": "code",
   "execution_count": 90,
   "metadata": {},
   "outputs": [],
   "source": [
    "r = requests.get(aurl, headers=header, allow_redirects=True, timeout=10)"
   ]
  },
  {
   "cell_type": "code",
   "execution_count": 89,
   "metadata": {},
   "outputs": [
    {
     "ename": "IndexError",
     "evalue": "list index out of range",
     "output_type": "error",
     "traceback": [
      "\u001b[0;31m---------------------------------------------------------------------------\u001b[0m",
      "\u001b[0;31mIndexError\u001b[0m                                Traceback (most recent call last)",
      "\u001b[0;32m<ipython-input-89-e9a2020e88f6>\u001b[0m in \u001b[0;36m<module>\u001b[0;34m()\u001b[0m\n\u001b[0;32m----> 1\u001b[0;31m \u001b[0mred\u001b[0m \u001b[0;34m=\u001b[0m \u001b[0mr\u001b[0m\u001b[0;34m.\u001b[0m\u001b[0mhistory\u001b[0m\u001b[0;34m[\u001b[0m\u001b[0;36m0\u001b[0m\u001b[0;34m]\u001b[0m\u001b[0;34m\u001b[0m\u001b[0m\n\u001b[0m\u001b[1;32m      2\u001b[0m \u001b[0;32mwith\u001b[0m \u001b[0mopen\u001b[0m\u001b[0;34m(\u001b[0m\u001b[0;34m'bla.pdf'\u001b[0m\u001b[0;34m,\u001b[0m \u001b[0;34m'bw'\u001b[0m\u001b[0;34m)\u001b[0m \u001b[0;32mas\u001b[0m \u001b[0mf\u001b[0m\u001b[0;34m:\u001b[0m\u001b[0;34m\u001b[0m\u001b[0m\n\u001b[1;32m      3\u001b[0m     \u001b[0mf\u001b[0m\u001b[0;34m.\u001b[0m\u001b[0mwrite\u001b[0m\u001b[0;34m(\u001b[0m\u001b[0mred\u001b[0m\u001b[0;34m.\u001b[0m\u001b[0mcontent\u001b[0m\u001b[0;34m)\u001b[0m\u001b[0;34m\u001b[0m\u001b[0m\n",
      "\u001b[0;31mIndexError\u001b[0m: list index out of range"
     ]
    }
   ],
   "source": [
    "<a class=\"anchor\" href=\"/science/article/pii/S0377027312001448/pdfft?md5=6db53957edf22d0f5a49fa0250e6be31&amp;pid=1-s2.0-S0377027312001448-main.pdf\" target=\"_blank\" rel=\"nofollow\" aria-expanded=\"true\" aria-live=\"polite\" aria-label=\"Download single PDF. Opens in a new window.\"><svg focusable=\"false\" viewBox=\"0 0 32 32\" width=\"24\" height=\"24\" class=\"icon icon-pdf-multicolor\"><path d=\"M7 .362h17.875l6.763 6.1V31.64H6.948V16z\" stroke=\"#000\" stroke-width=\".703\" fill=\"#fff\"></path><path d=\"M.167 2.592H22.39V9.72H.166z\" stroke=\"#aaa\" stroke-width=\".315\" fill=\"#da0000\"></path><path fill=\"#fff9f9\" d=\"M5.97 3.638h1.62c1.053 0 1.483.677 1.488 1.564.008.96-.6 1.564-1.492 1.564h-.644v1.66h-.977V3.64m.977.897v1.34h.542c.27 0 .596-.068.596-.673-.002-.6-.32-.667-.596-.667h-.542m3.8.036v2.92h.35c.933 0 1.223-.448 1.228-1.462.008-1.06-.316-1.45-1.23-1.45h-.347m-.977-.94h1.03c1.68 0 2.523.586 2.534 2.39.01 1.688-.607 2.4-2.534 2.4h-1.03V3.64m4.305 0h2.63v.934h-1.657v.894H16.6V6.4h-1.56v2.026h-.97V3.638\"></path><path d=\"M19.462 13.46c.348 4.274-6.59 16.72-8.508 15.792-1.82-.85 1.53-3.317 2.92-4.366-2.864.894-5.394 3.252-3.837 3.93 2.113.895 7.048-9.25 9.41-15.394zM14.32 24.874c4.767-1.526 14.735-2.974 15.152-1.407.824-3.157-13.72-.37-15.153 1.407zm5.28-5.043c2.31 3.237 9.816 7.498 9.788 3.82-.306 2.046-6.66-1.097-8.925-4.164-4.087-5.534-2.39-8.772-1.682-8.732.917.047 1.074 1.307.67 2.442-.173-1.406-.58-2.44-1.224-2.415-1.835.067-1.905 4.46 1.37 9.065z\" fill=\"#f91d0a\"></path></svg><span class=\"anchor-text\">Article</span></a>"
   ]
  },
  {
   "cell_type": "code",
   "execution_count": 73,
   "metadata": {},
   "outputs": [
    {
     "data": {
      "text/plain": [
       "[b'',\n",
       " b'      <!doctype html>',\n",
       " b\"      <html lang='en-us'>\",\n",
       " b'          <head>',\n",
       " b'              <meta name=\"viewport\" content=\"width=device-width, initial-scale=1, maximum-scale=1\">',\n",
       " b'              <meta name=\"SDTech\" content=\"Proudly brought to you by the SD Technology team in London, Dayton, and Amsterdam\">',\n",
       " b\"              <meta charset='utf-8'>\",\n",
       " b'              <meta name=\"robots\" content=\"NOINDEX,FOLLOW,NOARCHIVE,NOODP,NOYDIR\">',\n",
       " b'              <title>Internal Server Error</title>',\n",
       " b'              <link rel=\"icon\" href=\"https://sdfestaticassets-us-east-1.sciencedirectassets.com/shared-assets/15/images/favSD.ico\" type=\"image/x-icon\" />',\n",
       " b\"              <link rel='stylesheet' href=https://sdfestaticassets-us-east-1.sciencedirectassets.com/prod/2efdf6e3b3bfafb2a279f3a295538060ed05b2c8/style.css>\",\n",
       " b'              ',\n",
       " b'              <script src=\"//cdn.optimizely.com/js/204774041.js\"></script>',\n",
       " b'              <!-- begin mPulse embed code -->',\n",
       " b'      <script>',\n",
       " b'        (function(){',\n",
       " b'          if(window.BOOMR && window.BOOMR.version){return;}',\n",
       " b\"          var dom,doc,where,iframe = document.createElement('iframe'),win = window;\",\n",
       " b'',\n",
       " b'          function boomerangSaveLoadTime(e) {',\n",
       " b'            win.BOOMR_onload=(e && e.timeStamp) || new Date().getTime();',\n",
       " b'          }',\n",
       " b'          if (win.addEventListener) {',\n",
       " b'            win.addEventListener(\"load\", boomerangSaveLoadTime, false);',\n",
       " b'          } else if (win.attachEvent) {',\n",
       " b'            win.attachEvent(\"onload\", boomerangSaveLoadTime);',\n",
       " b'          }',\n",
       " b'',\n",
       " b'          iframe.src = \"javascript:false\";',\n",
       " b'          iframe.title = \"\"; iframe.role=\"presentation\";',\n",
       " b'          (iframe.frameElement || iframe).style.cssText = \"width:0;height:0;border:0;display:none;\";',\n",
       " b\"          where = document.getElementsByTagName('script')[0];\",\n",
       " b'          where.parentNode.insertBefore(iframe, where);',\n",
       " b'',\n",
       " b'          try {',\n",
       " b'            doc = iframe.contentWindow.document;',\n",
       " b'          } catch(e) {',\n",
       " b'            dom = document.domain;',\n",
       " b'            iframe.src=\"javascript:var d=document.open();d.domain=\\'\"+dom+\"\\';void(0);\";',\n",
       " b'            doc = iframe.contentWindow.document;',\n",
       " b'          }',\n",
       " b'          doc.open()._l = function() {',\n",
       " b'            var js = this.createElement(\"script\");',\n",
       " b'            if(dom) this.domain = dom;',\n",
       " b'            js.id = \"boomr-if-as\";',\n",
       " b\"            js.src = 'https://c.go-mpulse.net/boomerang/2FBN2-NKMGU-EJKY8-ZANKZ-SUJZF';\",\n",
       " b'            BOOMR_lstart=new Date().getTime();',\n",
       " b'            this.body.appendChild(js);',\n",
       " b'          };',\n",
       " b'          doc.write(\\'<body onload=\"document._l();\">\\');',\n",
       " b'          doc.close();',\n",
       " b'        })();',\n",
       " b'      </script>',\n",
       " b'      <!-- end mPulse embed code -->',\n",
       " b'          </head>',\n",
       " b'          <body>',\n",
       " b'              <div id=\"react-root\"><div data-iso-key=\"_0\"><div class=\"App\" data-reactroot=\"\" data-reactid=\"1\" data-react-checksum=\"32960981\"><div data-reactid=\"2\"><div id=\"header\" data-reactid=\"3\"><div class=\"customer-banner u-hide-from-lg\" data-reactid=\"4\"><div id=\"library-banner\" class=\"desktop-library-banner u-show-from-lg u-margin-xs-right\" data-reactid=\"5\"><div class=\"customer-banner-container text-xs\" data-reactid=\"6\"><div class=\"text-customer-banner text-xs u-bg-white u-fill-black u-clr-black\" style=\"border-color:#c9c9c9;border-style:solid;border-width:1px;text-align:center;height:60px;width:234px;overflow:hidden;\" data-reactid=\"7\"><span class=\"u-display-block\" data-reactid=\"8\">Brought to you by:</span><span id=\"library-banner-text\" class=\"branded\" data-reactid=\"9\"><a target=\"_blank\" href=\"#\" rel=\"nofollow\" data-reactid=\"10\">Universitaetsbibliothek Kiel</a></span></div></div></div><div class=\"mobile-library-banner move-top move-center u-bg-grey1 u-padding-xxl-ver u-hide-from-lg u-display-block\" id=\"mobile-library-banner\" style=\"width:100%;position:relative;\" data-reactid=\"11\"><div class=\"customer-banner-container text-xs move-middle move-center\" data-reactid=\"12\"><div class=\"text-customer-banner text-xs u-bg-white u-fill-black u-clr-black\" style=\"border-color:#c9c9c9;border-style:solid;border-width:1px;text-align:center;height:60px;width:234px;overflow:hidden;\" data-reactid=\"13\"><span class=\"u-display-block\" data-reactid=\"14\">Brought to you by:</span><span id=\"library-banner-text\" class=\"branded\" data-reactid=\"15\"><a target=\"_blank\" href=\"#\" rel=\"nofollow\" data-reactid=\"16\">Universitaetsbibliothek Kiel</a></span></div></div><button id=\"close-library-banner\" class=\"button button-anchor move-top move-right u-padding-s-right u-clr-grey7\" type=\"button\" data-reactid=\"17\"><span class=\"button-text\" data-reactid=\"18\"><span class=\"u-hide-visually\" data-reactid=\"19\">Close</span></span><svg focusable=\"false\" viewBox=\"0 0 70 128\" width=\"13.125\" height=\"24\" class=\"icon icon-cross\" data-reactid=\"20\"><path d=\"m68.94 36.12l-6.94-7.12-27 27-27-27-7 7 27 27-27 27 7 7 27-27 27 27 7-7-27-27 26.94-26.88\" data-reactid=\"21\"></path></svg></button></div></div><div class=\"u-bg-white\" style=\"overflow:visible;\" role=\"banner\" data-reactid=\"22\"><div class=\"els-header\" style=\"min-height:80px;\" data-reactid=\"23\"><a id=\"els-main-title-link\" href=\"/\" data-reactid=\"24\"><svg id=\"els-header-wordmark\" class=\"u-fill-orange u-margin-l-top u-margin-s-left u-margin-l-left-from-sm\" viewBox=\"-3334 3439.4 163 26\" style=\"width:163px;height:24px;\" data-reactid=\"25\"><title data-reactid=\"26\">ScienceDirect</title><g transform=\"scale(.8125,.8125)\" data-reactid=\"27\"><path d=\"M-4099.8,4240.4c0-1.8,1-3.6,4.4-3.6c1.7,0,3.7,0.5,5.5,1.6l0.2-3.1c-1.7-0.7-3.5-1.1-5.6-1.1 c-5.5,0-7.8,2.9-7.8,6.4c0,6.6,10.4,7.2,10.4,11.7c0,1.8-1.4,3.6-4.6,3.6c-2,0-4-0.7-5.6-1.6l-0.4,3.1c1.8,0.9,4.2,1.2,6.1,1.2 c5,0,7.9-2.9,7.9-6.5C-4089.4,4245.8-4099.8,4244.9-4099.8,4240.4\" data-reactid=\"28\"></path><path id=\"c\" d=\"M-4080.3,4242.9c0.3-0.1,0.8-0.3,2-0.3c2,0,2.9,0.4,2.9,1.9h2.8c0-0.4,0-0.9,0-1.3 c-0.3-2.3-2.5-3.2-5.8-3.2c-3.6,0-7.9,2.7-7.9,9.2c0,6.2,3.3,9.4,7.8,9.4c2,0,4.1-0.4,5.9-1.6l-0.2-2.7c-1.2,1-3.4,1.8-4.8,1.8 c-2.5,0-5.4-2-5.4-7C-4083.1,4244.3-4080.6,4243.1-4080.3,4242.9\" data-reactid=\"29\"></path><path id=\"i\" d=\"M-4068,4233.1c-1.1,0-1.9,1.1-1.9,2.1c0,1.1,0.9,2.2,1.9,2.2s2-1.1,2-2.2 C-4066,4234.1-4067,4233.1-4068,4233.1 M-4069.5,4258.1h3v-17.7h-3V4258.1z\" data-reactid=\"30\"></path><path id=\"e\" d=\"M-4057.1,4243.1c0.2-0.2,1.5-0.5,2.3-0.5c2.9,0,4.4,0.6,4.6,4.1h-8.8 C-4058.7,4244.4-4057.4,4243.3-4057.1,4243.1z M-4047.5,4248.9c0-6.1-1.7-8.9-7.1-8.9c-4.6,0-7.9,3.3-7.9,9.4 c0,5.8,3.5,9.2,7.9,9.2c3.3,0,5.1-0.7,6.7-1.7l-0.2-2.7c-1.1,0.9-3.5,1.8-5.5,1.8c-3.7,0-5.8-2.3-5.8-6.5v-0.6L-4047.5,4248.9\" data-reactid=\"31\"></path><path d=\"M-4034.8,4240c-2.6,0-4.3,1.3-5.7,3.1l-0.5-2.6h-2.8l0.2,1.4c0.1,0.9,0.2,2.1,0.2,3.5v12.8h3v-11.9 c0.8-1.1,2.5-2.9,2.9-3.1c0.3-0.2,1.5-0.5,2.5-0.5c2.7,0,2.9,1.4,3,4c0,1.4,0,3.7,0,3.7c0,3.5-0.1,7.6-0.1,7.6h3 c0,0,0.1-5.3,0.1-8.2c0-1.8,0-3.5-0.1-5.3C-4029.5,4241-4031.6,4240-4034.8,4240\" data-reactid=\"32\"></path><path d=\"M-3982.5,4255.6h-4.4v-18.6h4.8c6.4,0,8.2,5.2,8.2,9.2C-3973.8,4252.2-3976.5,4255.6-3982.5,4255.6z M-3981.6,4234.6h-8.4v23.5h8.1c8.6,0,11.5-6.7,11.5-11.9C-3970.4,4240.9-3973.2,4234.6-3981.6,4234.6\" data-reactid=\"33\"></path><path d=\"M-3950.5,4240c-1.9,0-3.4,1.7-4,3.2l-0.5-2.8h-2.8l0.2,1.4c0.1,0.9,0.2,2.1,0.2,3.4v12.8h3v-11.2 c0.6-1.5,2-4.4,3.7-4.4c1.1,0,1.2,1.2,1.2,1.4l2.5-0.7v-0.2c0,0,0-0.2-0.1-0.5C-3947.4,4240.9-3948.5,4240-3950.5,4240\" data-reactid=\"34\"></path><path d=\"M-3903.5,4255.2c-1.1,0.4-2,0.8-3,0.8c-1.4,0-1.9-0.8-1.9-2.8v-10.4h4.6v-2.3h-4.6v-4.7h-2.9v4.7h-3.2v2.3h3.2 v11.4c0,3.1,1.6,4.4,3.9,4.4c1.4,0,3-0.5,4.1-0.9L-3903.5,4255.2\" data-reactid=\"35\"></path><g data-reactid=\"36\"><path d=\"M-3923.3,4242.9c0.3-0.1,0.8-0.3,2-0.3c2,0,2.9,0.4,2.9,1.9h2.8c0-0.4,0-0.9,0-1.3 c-0.3-2.3-2.5-3.2-5.8-3.2c-3.6,0-7.9,2.7-7.9,9.2c0,6.2,3.3,9.4,7.8,9.4c2,0,4.1-0.4,5.9-1.6l-0.2-2.7c-1.2,1-3.4,1.8-4.8,1.8 c-2.5,0-5.4-2-5.4-7C-3926.1,4244.3-3923.6,4243.1-3923.3,4242.9\" data-reactid=\"37\"></path></g><g data-reactid=\"38\"><path d=\"M-3941.6,4243.1c0.2-0.2,1.5-0.5,2.3-0.5c2.9,0,4.4,0.6,4.6,4.1h-8.8 C-3943.2,4244.4-3941.8,4243.3-3941.6,4243.1z M-3932,4248.9c0-6.1-1.7-8.9-7.1-8.9c-4.6,0-7.9,3.3-7.9,9.4c0,5.8,3.5,9.2,7.9,9.2 c3.3,0,5.1-0.7,6.7-1.7l-0.2-2.7c-1.1,0.9-3.5,1.8-5.5,1.8c-3.7,0-5.8-2.3-5.8-6.5v-0.6L-3932,4248.9\" data-reactid=\"39\"></path></g><g data-reactid=\"40\"><path d=\"M-3964.5,4233.1c-1.1,0-1.9,1.1-1.9,2.1c0,1.1,0.9,2.2,1.9,2.2s2-1.1,2-2.2 C-3962.5,4234.1-3963.4,4233.1-3964.5,4233.1 M-3965.9,4258.1h3v-17.7h-3V4258.1z\" data-reactid=\"41\"></path></g><g data-reactid=\"42\"><path d=\"M-4004.4,4243.1c0.2-0.2,1.5-0.5,2.3-0.5c2.9,0,4.4,0.6,4.6,4.1h-8.8 C-4006,4244.4-4004.6,4243.3-4004.4,4243.1z M-3994.7,4248.9c0-6.1-1.7-8.9-7.1-8.9c-4.6,0-7.9,3.3-7.9,9.4c0,5.8,3.5,9.2,7.9,9.2 c3.3,0,5.1-0.7,6.7-1.7l-0.2-2.7c-1.1,0.9-3.5,1.8-5.5,1.8c-3.7,0-5.8-2.3-5.8-6.5v-0.6L-3994.7,4248.9\" data-reactid=\"43\"></path></g><g data-reactid=\"44\"><path d=\"M-4019.1,4242.9c0.3-0.1,0.8-0.3,2-0.3c2,0,2.9,0.4,2.9,1.9h2.8c0-0.4,0-0.9,0-1.3 c-0.3-2.3-2.5-3.2-5.8-3.2c-3.6,0-7.9,2.7-7.9,9.2c0,6.2,3.3,9.4,7.8,9.4c2,0,4.1-0.4,5.9-1.6l-0.2-2.7c-1.2,1-3.4,1.8-4.8,1.8 c-2.5,0-5.4-2-5.4-7C-4021.8,4244.3-4019.4,4243.1-4019.1,4242.9\" data-reactid=\"45\"></path></g></g></svg></a><div class=\"move-right u-display-inline-block\" data-reactid=\"46\"><nav class=\"u-clr-grey8 u-show-from-md\" data-reactid=\"47\"><div class=\"u-display-inline-block\" style=\"margin-top:29px;\" data-reactid=\"48\"><span data-reactid=\"49\"><span class=\"u-margin-l-right\" data-reactid=\"50\"><a class=\"anchor qa-journals-and-books u-margin-l-right anchor-has-inherit-color\" href=\"/browse/journals-and-books\" id=\"els-header-navigation-section-journals-and-books\" style=\"border-bottom:;\" data-reactid=\"51\"><span class=\"anchor-text\" data-reactid=\"52\">Journals &amp; Books</span></a></span><a class=\"anchor qa-journals-and-books u-margin-l-right anchor-has-inherit-color\" href=\"/user/register?returnURL=%2Fuser%2Ferror\" id=\"els-header-navigation-section-register\" data-reactid=\"53\"><span class=\"anchor-text\" data-reactid=\"54\">Register</span></a></span><a class=\"anchor qa-no-js-fallback-link anchor-has-inherit-color\" href=\"/user/login?returnURL=%2Fuser%2Ferror\" id=\"els-header-user-sign-in\" data-reactid=\"55\"><span class=\"anchor-text\" data-reactid=\"56\">Sign in</span><svg focusable=\"false\" viewBox=\"0 0 54 128\" width=\"10.125\" height=\"24\" class=\"icon icon-navigate-right\" data-reactid=\"57\"><path d=\"m1 99l38-38-38-38 7-7 45 45-45 45z\" data-reactid=\"58\"></path></svg></a><span data-reactid=\"59\"><a class=\"anchor u-margin-l-hor help-link anchor-has-inherit-color\" href=\"https://service.elsevier.com/app/home/supporthub/sciencedirect/\" id=\"help\" title=\"Help\" aria-label=\"Help\" target=\"_blank\" data-reactid=\"60\"><span class=\"anchor-text\" data-reactid=\"61\"><svg focusable=\"false\" viewBox=\"0 0 114 128\" style=\"margin-top:-10px;\" width=\"21.375\" height=\"24\" class=\"icon icon-help\" data-reactid=\"62\"><path d=\"m57 8c-14.7 0-28.5 5.72-38.9 16.1-10.38 10.4-16.1 24.22-16.1 38.9 0 30.32 24.68 55 55 55 14.68 0 28.5-5.72 38.88-16.1 10.4-10.4 16.12-24.2 16.12-38.9 0-30.32-24.68-55-55-55zm0 1e1c24.82 0 45 20.18 45 45 0 12.02-4.68 23.32-13.18 31.82s-19.8 13.18-31.82 13.18c-24.82 0-45-20.18-45-45 0-12.02 4.68-23.32 13.18-31.82s19.8-13.18 31.82-13.18zm-0.14 14c-11.55 0.26-16.86 8.43-16.86 18v2h1e1v-2c0-4.22 2.22-9.66 8-9.24 5.5 0.4 6.32 5.14 5.78 8.14-1.1 6.16-11.78 9.5-11.78 20.5v6.6h1e1v-5.56c0-8.16 11.22-11.52 12-21.7 0.74-9.86-5.56-16.52-16-16.74-0.39-0.01-0.76-0.01-1.14 0zm-4.86 5e1v1e1h1e1v-1e1h-1e1z\" data-reactid=\"63\"></path></svg></span></a></span></div><div class=\"customer-banner u-show-from-lg move-top move-right u-display-inline-block u-position-relative\" data-reactid=\"64\"><div id=\"library-banner\" class=\"desktop-library-banner u-show-from-lg u-margin-xs-right\" data-reactid=\"65\"><div class=\"customer-banner-container text-xs\" data-reactid=\"66\"><div class=\"text-customer-banner text-xs u-bg-white u-fill-black u-clr-black\" style=\"border-color:#c9c9c9;border-style:solid;border-width:1px;text-align:center;height:60px;width:234px;overflow:hidden;\" data-reactid=\"67\"><span class=\"u-display-block\" data-reactid=\"68\">Brought to you by:</span><span id=\"library-banner-text\" class=\"branded\" data-reactid=\"69\"><a target=\"_blank\" href=\"#\" rel=\"nofollow\" data-reactid=\"70\">Universitaetsbibliothek Kiel</a></span></div></div></div><div class=\"mobile-library-banner move-top move-center u-bg-grey1 u-padding-xxl-ver u-hide-from-lg u-display-block\" id=\"mobile-library-banner\" style=\"width:100%;position:relative;\" data-reactid=\"71\"><div class=\"customer-banner-container text-xs move-middle move-center\" data-reactid=\"72\"><div class=\"text-customer-banner text-xs u-bg-white u-fill-black u-clr-black\" style=\"border-color:#c9c9c9;border-style:solid;border-width:1px;text-align:center;height:60px;width:234px;overflow:hidden;\" data-reactid=\"73\"><span class=\"u-display-block\" data-reactid=\"74\">Brought to you by:</span><span id=\"library-banner-text\" class=\"branded\" data-reactid=\"75\"><a target=\"_blank\" href=\"#\" rel=\"nofollow\" data-reactid=\"76\">Universitaetsbibliothek Kiel</a></span></div></div><button id=\"close-library-banner\" class=\"button button-anchor move-top move-right u-padding-s-right u-clr-grey7\" type=\"button\" data-reactid=\"77\"><span class=\"button-text\" data-reactid=\"78\"><span class=\"u-hide-visually\" data-reactid=\"79\">Close</span></span><svg focusable=\"false\" viewBox=\"0 0 70 128\" width=\"13.125\" height=\"24\" class=\"icon icon-cross\" data-reactid=\"80\"><path d=\"m68.94 36.12l-6.94-7.12-27 27-27-27-7 7 27 27-27 27 7 7 27-27 27 27 7-7-27-27 26.94-26.88\" data-reactid=\"81\"></path></svg></button></div></div></nav></div><div class=\"u-hide-from-md move-right\" data-reactid=\"82\"><ul data-reactid=\"83\"><li style=\"list-style:none;display:inline-block;margin-top:32px;\" class=\"u-margin-s-hor u-margin-l-hor-from-sm\" data-reactid=\"84\"><div class=\"hamburger-button\" data-reactid=\"85\"><button class=\"button-link button-link-primary\" aria-label=\"Mobile menu\" aria-expanded=\"false\" type=\"button\" data-reactid=\"86\"><svg viewBox=\"0 0 40 18\" width=\"40\" height=\"18\" y=\"52\" data-reactid=\"87\"><path d=\"M0 16h40v2H0zm0-8h40v2H0zm0-8h40v2H0z\" data-reactid=\"88\"></path></svg><span class=\"button-link-text\" data-reactid=\"89\"></span></button></div></li></ul><div style=\"bottom:0;left:0;position:fixed;top:0;width:100%;z-index:70;opacity:.8;\" class=\"u-bg-grey1 u-display-none\" data-reactid=\"90\"></div><div id=\"mobile-menu\" style=\"overflow:auto;position:fixed;width:288px;right:0;top:0;z-index:1000;height:100%;\" aria-label=\"Mobile menu\" class=\"u-bg-grey7 u-clr-grey1 u-display-none\" role=\"navigation\" data-reactid=\"91\"><div class=\"u-bg-black panel-s\" data-reactid=\"92\"><!-- react-empty: 93 --></div><div class=\"u-bg-grey8 panel-s\" data-reactid=\"94\"><!-- react-empty: 95 --><ul data-reactid=\"96\"><li style=\"list-style:none;\" data-reactid=\"97\"><a class=\"anchor journals-and-books-link u-padding-xs-top anchor-has-inherit-color\" href=\"/browse/journals-and-books\" style=\"border-bottom:;\" id=\"mobile-journals-and-books-link\" data-reactid=\"98\"><span class=\"anchor-text\" data-reactid=\"99\">Journals &amp; Books</span></a></li><li style=\"list-style:none;\" data-reactid=\"100\"><a class=\"anchor u-padding-xs-top anchor-has-inherit-color\" href=\"/user/register?returnURL=%2Fuser%2Ferror\" id=\"mobile-register-link\" data-reactid=\"101\"><span class=\"anchor-text\" data-reactid=\"102\">Register</span></a></li></ul></div><div class=\"panel-s u-bg-grey7\" data-reactid=\"103\"><ul class=\"text-xs\" data-reactid=\"104\"></ul><!-- react-empty: 105 --><ul class=\"u-margin-s-top text-s\" data-reactid=\"106\"><li style=\"list-style:none;\" data-reactid=\"107\"><a class=\"anchor anchor-has-inherit-color\" href=\"/user/login?returnURL=%2Fuser%2Ferror\" id=\"mobile-sign-in-out-link\" rel=\"nofollow\" data-reactid=\"108\"><span class=\"anchor-text\" data-reactid=\"109\">Sign In</span></a></li><span data-reactid=\"110\"><a class=\"anchor u-padding-xs-top text-s help-link anchor-has-inherit-color\" href=\"https://service.elsevier.com/app/home/supporthub/sciencedirect/\" id=\"mobile-help\" title=\"Help\" aria-label=\"Help\" target=\"_blank\" data-reactid=\"111\"><span class=\"anchor-text\" data-reactid=\"112\">Help</span></a></span></ul></div></div><div class=\"move-bottom move-center\" data-reactid=\"113\"></div></div></div></div></div><div class=\"grid\" data-reactid=\"114\"><div class=\"row u-bg-grey7 u-clr-white u-padding-l-ver u-padding-s-hor\" data-reactid=\"115\"><div class=\"col-xl-6 col-lg-4\" data-reactid=\"116\"></div><div class=\"col-xl-12 col-lg-16 col-xs-24\" data-reactid=\"117\"><div class=\"alert\" data-reactid=\"118\"><span class=\"alert-icon-box u-bg-warning-red\" data-reactid=\"119\"><svg focusable=\"false\" viewBox=\"0 0 16 128\" width=\"24\" height=\"24\" class=\"icon icon-warning u-fill-white\" data-reactid=\"120\"><path d=\"m13.25 75.09h-9.87l-0.63-59.09h11.14l-0.64 59.09zm1.97 19.04c0 3.95-3.25 7.2-7.25 7.2-3.95 0-7.2-3.25-7.2-7.2 0-4 3.25-7.2 7.2-7.2 2.4 0 4.59 1.17 5.87 3.04 0.85 1.18 1.33 2.62 1.33 4.22z\" data-reactid=\"121\"></path></svg></span><span class=\"alert-text\" data-reactid=\"122\"><div class=\"u-clr-white\" data-reactid=\"123\"><div data-reactid=\"124\"><h3 class=\"u-clr-white\" data-reactid=\"125\">Sorry, we seem to have hit a problem processing your request</h3><p class=\"u-padding-m-top\" data-reactid=\"126\"><!-- react-text: 127 -->You could try reloading the page, or perhaps leave it a few minutes then try again. If that doesn\\xe2\\x80\\x99t solve the problem, our <!-- /react-text --><a class=\"anchor u-clr-orange\" href=\"https://service.elsevier.com/app/contact/supporthub/sciencedirect/\" data-reactid=\"128\"><span class=\"anchor-text\" data-reactid=\"129\">support team</span></a><!-- react-text: 130 --> will be happy to help.<!-- /react-text --></p></div></div></span></div></div></div></div><div id=\"footer\" data-reactid=\"131\"><div class=\"hor-line\" style=\"border-color:#e9711c;\" data-reactid=\"132\"></div><div class=\"panel-s u-padding-l-bottom u-bg-white u-clr-grey7\" role=\"contentinfo\" data-reactid=\"133\"><a class=\"anchor move-left els-footer-elsevier anchor-has-inherit-color\" href=\"https://www.elsevier.com/\" rel=\"nofollow\" target=\"_blank\" style=\"white-space:nowrap;\" data-reactid=\"134\"><span class=\"anchor-text\" data-reactid=\"135\"><svg viewBox=\"-3345 3440.027 140.01 24.333\" style=\"width:104px;height:30px;\" data-reactid=\"136\"><title data-reactid=\"137\">Elsevier</title><path id=\"E\" style=\"fill:#E9711C;\" d=\"M-3343.999,3461.698c2.24,0,3.026-0.473,3.026-2.892v-13.393c0-2.42-0.785-2.89-3.026-2.891v-0.59 h16.787l0.252,4.455h-0.56c-0.308-2.48-1.513-3.216-3.84-3.216h-5.325c-1.26,0-1.26,0.355-1.26,2.066v5.693h5.913 c1.934,0,2.522-0.826,2.718-2.803h0.56v6.844h-0.56c-0.168-1.946-0.813-2.802-2.718-2.802h-5.913v6.401 c0,1.858,0.11,2.476,1.4,2.476h5.914c2.522,0,4.092-1.62,4.82-3.952l0.532,0.207l-1.513,4.985H-3344L-3343.999,3461.698\" data-reactid=\"138\"></path><path style=\"fill:#E9711C;\" d=\"M-3325.448,3461.698c2.074-0.118,2.83-0.502,2.83-2.832v-13.511c0-2.33-0.757-2.715-2.83-2.832v-0.591h8.884 v0.591c-2.243,0-3.027,0.472-3.027,2.891v13.009c0,1.652,0.056,2.625,1.71,2.625h4.008c3,0,4.4-2,5.576-4.1l0.673,0.118 l-1.71,5.222h-16.114V3461.698\" data-reactid=\"139\"></path><path style=\"fill:#E9711C;\" d=\"M-3307.122,3456.27h0.561c1.12,2.596,2.886,5.4,5.94,5.4c2,0,3.672-1.3,3.672-3.334 c0-1.652-1.626-3.1-4.176-4.927c-3.28-2.36-5.41-3.746-5.41-6.43c0-3.422,2.55-5.517,5.633-5.517c2.214,0,3,0.944,4.204,0.944 c0.476,0,0.56-0.266,0.476-0.737h0.561l0.645,6.076h-0.561c-0.785-2.625-2.523-5.19-5.354-5.19c-1.737,0-3.138,1.356-3.138,3.185 c0,1.918,1.933,3.157,5.016,5.016c2.523,1.504,5,3.362,5,6.254c0,3.245-2.608,5.752-5.97,5.752c-2.02,0-4.148-0.855-4.68-0.855 c-0.336,0-0.7,0.207-0.756,0.649h-0.56l-1.094-6.282\" data-reactid=\"140\"></path><path style=\"fill:#E9711C;\" d=\"M-3293.999,3461.698c2.24,0,3.026-0.473,3.026-2.892v-13.393c0-2.42-0.785-2.89-3.026-2.891v-0.59 h16.787l0.252,4.455h-0.56c-0.308-2.48-1.513-3.216-3.84-3.216h-5.325c-1.26,0-1.26,0.355-1.26,2.066v5.693h5.913 c1.934,0,2.522-0.826,2.718-2.803h0.56v6.844h-0.56c-0.168-1.946-0.813-2.802-2.718-2.802h-5.913v6.401 c0,1.858,0.11,2.476,1.4,2.476h5.914c2.522,0,4.092-1.62,4.82-3.952l0.532,0.207l-1.513,4.985H-3294L-3293.999,3461.698\" data-reactid=\"141\"></path><path style=\"fill:#E9711C;\" d=\"M-3265.839,3462.524h-0.42l-5.41-12.538c-0.896-2.065-1.71-4.16-2.83-6.136 c-0.478-0.826-1.346-1.327-2.3-1.327v-0.591h8.323v0.591c-0.785,0-2.354,0-2.354,1.15c0,0.384,0.87,2.45,1.653,4.308l4.063,9.676 l4.877-11.359c0.588-1.356,0.757-2.094,0.757-2.713c0-0.618-0.673-0.974-2.13-1.062v-0.59h5.941v0.591 c-0.337,0.06-0.7,0.117-1.037,0.295c-1.066,0.56-2.13,3.57-2.635,4.749l-6.5,14.957\" data-reactid=\"142\"></path><path style=\"fill:#E9711C;\" d=\"M-3255.472,3461.698c2.24,0,3.025-0.473,3.025-2.892v-13.393c0-2.42-0.784-2.89-3.025-2.891v-0.59h9.078v0.591 c-2.24,0-3.025,0.472-3.025,2.891v13.393c0,2.42,0.784,2.892,3.025,2.892v0.59h-9.08v-0.59\" data-reactid=\"143\"></path><path id=\"E_2_\" style=\"fill:#E9711C;\" d=\"M-3244.999,3461.698c2.24,0,3.026-0.473,3.026-2.892v-13.393c0-2.42-0.785-2.89-3.026-2.891v-0.59 h16.787l0.252,4.455h-0.56c-0.308-2.48-1.513-3.216-3.84-3.216h-5.325c-1.26,0-1.26,0.355-1.26,2.066v5.693h5.913 c1.934,0,2.522-0.826,2.718-2.803h0.56v6.844h-0.56c-0.168-1.946-0.813-2.802-2.718-2.802h-5.913v6.401 c0,1.858,0.11,2.476,1.4,2.476h5.914c2.522,0,4.092-1.62,4.82-3.952l0.532,0.207l-1.513,4.985H-3245L-3244.999,3461.698\" data-reactid=\"144\"></path><path style=\"fill:#E9711C;\" d=\"M-3206,3461.698c-1.26-0.354-1.71-0.68-2.466-1.623l-6.166-7.609c3.027-0.65,5.13-2.185,5.13-5.547 c0-4.75-4.26-4.986-7.764-4.986h-9.191v0.591c2.24,0,3.026,0.472,3.026,2.891v13.393c0,2.42-0.785,2.892-3.026,2.892v0.59h9.08 v-0.59c-2.242,0-3.027-0.473-3.027-2.892v-5.604h2.551l7.314,9.086h4.54L-3206,3461.698 M-3220.399,3444.499 c0-1.387,0.337-1.476,2.186-1.476c2.774,0,5.3,0.974,5.3,4.308c0,3.6-2.887,4.63-5.914,4.631h-1.569v-7.463H-3220.399z\" data-reactid=\"145\"></path></svg></span></a><div class=\"panel-s u-bg-white u-padding-0-hor-from-xs u-padding-s-hor-from-md u-padding-xs-ver text-xs u-clear-both-from-xs u-clear-none-from-md\" data-reactid=\"146\"><p class=\"u-margin-xs-bottom\" data-reactid=\"147\"><a class=\"anchor u-margin-xs-right u-margin-s-right-from-sm u-margin-l-right-from-md anchor-has-inherit-color\" href=\"https://www.elsevier.com/solutions/sciencedirect\" rel=\"nofollow\" target=\"_blank\" style=\"white-space:nowrap;\" data-reactid=\"148\"><span class=\"anchor-text\" data-reactid=\"149\">About ScienceDirect</span></a><wbr data-reactid=\"150\"/><a class=\"anchor u-margin-xs-right u-margin-s-right-from-sm u-margin-l-right-from-md anchor-has-inherit-color\" href=\"/customer/authenticate/manra\" rel=\"nofollow\" target=\"_blank\" style=\"white-space:nowrap;\" data-reactid=\"151\"><span class=\"anchor-text\" data-reactid=\"152\">Remote access</span></a><wbr data-reactid=\"153\"/><a class=\"anchor u-margin-xs-right u-margin-s-right-from-sm u-margin-l-right-from-md anchor-has-inherit-color\" href=\"/science?_ob=ShoppingCartURL&amp;_method=display&amp;md5=3ff44acb300f01481824c54a2973d019\" rel=\"nofollow\" target=\"_blank\" style=\"white-space:nowrap;\" data-reactid=\"154\"><span class=\"anchor-text\" data-reactid=\"155\">Shopping cart</span></a><wbr data-reactid=\"156\"/><a class=\"anchor u-margin-xs-right u-margin-s-right-from-sm u-margin-l-right-from-md anchor-has-inherit-color\" href=\"https://service.elsevier.com/app/contact/supporthub/sciencedirect/\" rel=\"nofollow\" target=\"_blank\" style=\"white-space:nowrap;\" data-reactid=\"157\"><span class=\"anchor-text\" data-reactid=\"158\">Contact and support</span></a><wbr data-reactid=\"159\"/><a class=\"anchor u-margin-xs-right u-margin-s-right-from-sm u-margin-l-right-from-md anchor-has-inherit-color\" href=\"https://www.elsevier.com/legal/elsevier-website-terms-and-conditions\" rel=\"nofollow\" target=\"_blank\" style=\"white-space:nowrap;\" data-reactid=\"160\"><span class=\"anchor-text\" data-reactid=\"161\">Terms and conditions</span></a><wbr data-reactid=\"162\"/><a class=\"anchor u-margin-xs-right u-margin-s-right-from-sm u-margin-l-right-from-md anchor-has-inherit-color\" href=\"https://www.elsevier.com/legal/privacy-policy\" rel=\"nofollow\" target=\"_blank\" style=\"white-space:nowrap;\" data-reactid=\"163\"><span class=\"anchor-text\" data-reactid=\"164\">Privacy policy</span></a></p><p id=\"els-footer-cookie-message\" data-reactid=\"165\"><!-- react-text: 166 -->Cookies are used by this site. For more information, visit the<!-- /react-text --><!-- react-text: 167 --> <!-- /react-text --><a class=\"anchor u-margin-0-right\" href=\"https://www.elsevier.com/solutions/sciencedirect/support/cookies\" rel=\"nofollow\" target=\"_blank\" style=\"white-space:nowrap;\" data-reactid=\"168\"><span class=\"anchor-text\" data-reactid=\"169\">cookies page</span></a><!-- react-text: 170 -->.<!-- /react-text --></p><p id=\"els-footer-copyright\" data-reactid=\"171\"><!-- react-text: 172 -->Copyright \\xc2\\xa9 <!-- /react-text --><!-- react-text: 173 -->2018<!-- /react-text --><!-- react-text: 174 --> Elsevier B.V. or its licensors or contributors. ScienceDirect \\xc2\\xae is a registered trademark of Elsevier B.V.<!-- /react-text --></p></div><div data-reactid=\"175\"><span style=\"margin-top:-10px;\" class=\"u-position-relative move-bottom u-float-left-from-xs u-float-right-from-md move-right u-padding-0-hor\" data-reactid=\"176\"><a class=\"anchor els-footer-relx anchor-has-inherit-color\" href=\"https://www.relx.com/\" rel=\"nofollow\" target=\"_blank\" style=\"white-space:nowrap;\" data-reactid=\"177\"><span class=\"anchor-text\" data-reactid=\"178\"><svg style=\"width:118px;height:28px;\" viewBox=\"-3248 3424.938 334.44 53.422\" data-reactid=\"179\"><title data-reactid=\"180\">RELX Group</title><path style=\"fill:#E9711C;\" d=\"M-3227.285,3448.329c10.948,0,24.15-2.576,24.15-13.124c0-7.474-7.63-10.267-14.6-10.267 c-10.647,0-30.265,5.926-30.265,26.96c0,10.555,8.034,16.643,20.778,16.643c13.474,0,23.266-8.768,26.26-20.535 c-7.912,13.648-17.972,17.896-26.18,17.896c-10.19,0-14.077-7.568-14.077-14.05c0-18.56,14.406-24.798,23.494-24.798 c6.135,0,9.727,3.936,9.727,8.253c0,11.918-17.17,11.578-25.008,11.578c-0.803,0-3.274,0.02-3.76-0.003l-1.654,1.714 c3.59,0.508,8.554,1.497,13.944,4.223c11.204,5.656,21.745,20.59,35.7,20.59c5.062,0,6.38-1.543,7.335-2.893 c-6.834,4.354-18.286-3.197-24.46-9.04c-5.082-4.806-9.57-10.26-21.387-13.146\" data-reactid=\"181\"></path><g data-reactid=\"182\"><path style=\"fill:#666666;\" d=\"M-3158.73,3468.502c-0.423,0-0.636-0.164-0.794-0.547l-6.885-14.511h-6.197c-0.21,0-0.316,0.11-0.316,0.33 v14.182c0,0.328-0.213,0.547-0.532,0.547h-5.189c-0.32,0-0.53-0.22-0.53-0.547v-36.139c0-0.33,0.21-0.55,0.53-0.549h13.928 c6.62,0,11.492,4.545,11.492,11.117c0,4.873-2.7,8.65-6.833,10.238l7.575,15.167c0.21,0.385,0,0.713-0.37,0.713L-3158.73,3468.502 L-3158.73,3468.502z M-3159.42,3442.384c0-3.232-2.223-5.31-5.506-5.311h-7.68c-0.21,0-0.316,0.108-0.316,0.328v9.912 c0,0.217,0.104,0.328,0.316,0.328h7.68C-3161.644,3447.641-3159.42,3445.561-3159.42,3442.384\" data-reactid=\"183\"></path><path style=\"fill:#666666;\" d=\"M-3146.95,3431.817c0-0.33,0.21-0.55,0.53-0.549h21.865c0.317,0,0.53,0.22,0.53,0.549v4.709 c0,0.33-0.212,0.548-0.53,0.548h-15.827c-0.212,0-0.318,0.108-0.318,0.328v9.089c0,0.22,0.106,0.328,0.318,0.328h12.726 c0.317,0,0.53,0.22,0.53,0.547v4.709c0,0.33-0.213,0.548-0.53,0.548h-12.726c-0.212,0-0.318,0.11-0.318,0.329v9.418 c0,0.22,0.106,0.328,0.318,0.328h15.827c0.317,0,0.53,0.22,0.53,0.549v4.709c0,0.328-0.212,0.547-0.53,0.547h-21.865 c-0.32,0-0.53-0.22-0.53-0.547C-3146.95,3467.956-3146.95,3431.817-3146.95,3431.817z\" data-reactid=\"184\"></path><path style=\"fill:#666666;\" d=\"M-3118.2,3431.817c0-0.33,0.212-0.55,0.53-0.549h5.191c0.317,0,0.53,0.22,0.53,0.549v30.553 c0,0.22,0.106,0.328,0.317,0.328h14.722c0.318,0,0.53,0.22,0.53,0.549v4.709c0,0.328-0.213,0.547-0.53,0.547h-20.76 c-0.317,0-0.53-0.22-0.53-0.547C-3118.2,3467.956-3118.2,3431.817-3118.2,3431.817z\" data-reactid=\"185\"></path><path style=\"fill:#666666;\" d=\"M-3052.46,3449.885c0-6.46,0.423-8.926,1.006-10.787c1.747-5.53,5.878-8.377,11.758-8.377 c5.88,0,9.532,3.012,11.28,6.9c0.107,0.274,0.107,0.548-0.21,0.712l-1.695,0.876c-0.265,0.11-0.53,0.055-0.688-0.22 c-1.802-3.396-4.45-5.312-8.74-5.312c-4.45,0-7.468,2.192-8.792,6.3c-0.475,1.422-0.845,3.722-0.845,9.909s0.37,8.486,0.845,9.91 c1.324,4.107,4.343,6.3,8.792,6.3c4.342,0,7.468-2.137,8.79-6.19c0.477-1.422,0.85-3.56,0.85-7.117c0-0.22-0.106-0.328-0.318-0.328 h-8.155c-0.318,0-0.53-0.22-0.53-0.548v-1.807c0-0.33,0.212-0.548,0.53-0.548h10.962c0.317,0,0.53,0.22,0.53,0.548v2.243 c0,3.725-0.423,6.572-0.954,8.27c-1.694,5.53-5.88,8.432-11.65,8.432c-5.88,0-10.01-2.848-11.758-8.38 C-3052.036,3458.811-3052.459,3456.345-3052.46,3449.885\" data-reactid=\"186\"></path><path style=\"fill:#666666;\" d=\"M-3021.43,3468.502c-0.317,0-0.53-0.22-0.53-0.547v-25.023c0-0.33,0.213-0.548,0.53-0.548h1.801 c0.316,0,0.53,0.22,0.53,0.548v3.338h0.052c0.953-2.572,3.23-4.434,6.78-4.434c2.013,0,3.866,0.712,5.084,1.807 c0.265,0.164,0.317,0.438,0.107,0.713l-1.06,1.531c-0.212,0.274-0.48,0.274-0.795,0.11c-1.164-0.767-2.436-1.313-4.024-1.313 c-4.45,0-6.144,3.996-6.144,8.815v14.456c0,0.328-0.213,0.547-0.53,0.547H-3021.43L-3021.43,3468.502z\" data-reactid=\"187\"></path><path style=\"fill:#666666;\" d=\"M-3004.54,3462.26c-0.53-1.752-0.847-3.668-0.847-6.844c0-3.12,0.316-5.037,0.847-6.79 c1.378-4.327,4.818-6.79,9.426-6.79c4.662,0,8.104,2.464,9.48,6.79c0.53,1.752,0.848,3.668,0.848,6.79 c0,3.176-0.317,5.092-0.848,6.844c-1.377,4.326-4.818,6.79-9.48,6.79C-2999.722,3469.05-3003.162,3466.585-3004.54,3462.26 M-2988.387,3461.33c0.475-1.48,0.688-3.066,0.688-5.914c0-2.794-0.213-4.38-0.688-5.86c-1.007-3.12-3.442-4.873-6.728-4.873 c-3.23,0-5.666,1.752-6.672,4.873c-0.477,1.48-0.688,3.065-0.688,5.86c0,2.848,0.212,4.436,0.688,5.914 c1.006,3.12,3.442,4.873,6.672,4.873C-2991.829,3466.203-2989.395,3464.451-2988.387,3461.33\" data-reactid=\"188\"></path><path style=\"fill:#666666;\" d=\"M-2963.66,3468.502c-0.317,0-0.528-0.22-0.528-0.547v-3.066h-0.053c-1.272,2.574-3.92,4.162-7.36,4.162 c-5.615,0-8.74-3.616-8.74-9.913v-16.206c0-0.33,0.213-0.548,0.53-0.548h1.801c0.317,0,0.53,0.22,0.53,0.548v15.44 c0,5.257,2.118,7.83,6.515,7.83c3.812,0,6.78-2.74,6.78-7.284v-15.987c0-0.33,0.21-0.548,0.528-0.548h1.802 c0.317,0,0.53,0.22,0.53,0.548v25.023c0,0.328-0.213,0.547-0.53,0.547h-1.802L-2963.66,3468.502z\" data-reactid=\"189\"></path><path style=\"fill:#666666;\" d=\"M-2955.29,3478.36c-0.317,0-0.53-0.22-0.53-0.549v-34.879c0-0.33,0.213-0.548,0.53-0.548h1.8 c0.317,0,0.53,0.22,0.53,0.548v3.176h0.053c1.218-2.465,3.496-4.272,7.68-4.272c4.45,0,7.256,2.08,8.58,6.242 c0.638,2.137,0.9,4.435,0.9,7.393c0,2.9-0.264,5.2-0.9,7.336c-1.323,4.164-4.13,6.242-8.58,6.242c-4.183,0-6.46-1.807-7.68-4.27 h-0.053v13.031c0,0.33-0.213,0.55-0.53,0.549L-2955.29,3478.36L-2955.29,3478.36z M-2939.35,3461.602 c0.53-1.643,0.688-3.832,0.688-6.13c0-2.355-0.158-4.545-0.688-6.188c-0.952-2.957-3.124-4.6-6.46-4.6 c-3.178,0-5.507,1.533-6.46,4.6c-0.477,1.423-0.69,3.34-0.69,6.188c0,2.847,0.212,4.71,0.69,6.13 c0.954,3.067,3.283,4.602,6.46,4.602C-2942.473,3466.204-2940.3,3464.561-2939.35,3461.602\" data-reactid=\"190\"></path><path style=\"fill:#666666;\" d=\"M-3070.48,3468.545c-0.424,0-0.634-0.164-0.85-0.547l-7.254-12.649h-0.106l-7.307,12.649 c-0.213,0.383-0.424,0.547-0.85,0.547h-5.72c-0.37,0-0.528-0.328-0.318-0.711l10.76-18.562l-9.96-17.248 c-0.21-0.385-0.05-0.712,0.32-0.712h5.721c0.424,0,0.636,0.163,0.847,0.548l6.513,11.278h0.106l6.513-11.278 c0.213-0.385,0.425-0.548,0.85-0.548h5.72c0.37,0,0.53,0.327,0.317,0.712l-9.956,17.248l10.75,18.562 c0.21,0.383,0.052,0.71-0.32,0.711h-5.771H-3070.48z\" data-reactid=\"191\"></path><path style=\"fill:#666666;\" d=\"M-2932.08,3443.951c-0.108,0-0.18-0.075-0.18-0.189v-10.385c0-0.075-0.036-0.113-0.11-0.113h-3.202 c-0.11,0-0.184-0.073-0.184-0.186v-1.6c0-0.11,0.074-0.186,0.184-0.186h8.746c0.11,0,0.183,0.075,0.183,0.186v1.6 c0,0.113-0.07,0.186-0.183,0.186h-3.201c-0.073,0-0.11,0.038-0.11,0.113v10.385c0,0.113-0.07,0.19-0.18,0.189H-2932.08 L-2932.08,3443.951z\" data-reactid=\"192\"></path><path style=\"fill:#666666;\" d=\"M-2924.47,3431.478c0-0.112,0.07-0.186,0.178-0.186h1.604c0.163,0,0.252,0.056,0.307,0.186l3.367,7.8h0.07 l3.315-7.8c0.052-0.13,0.144-0.186,0.305-0.186h1.583c0.11,0,0.182,0.074,0.182,0.186v12.286c0,0.11-0.07,0.186-0.182,0.186h-1.564 c-0.11,0-0.18-0.075-0.18-0.186v-7.744h-0.073l-2.593,5.957c-0.07,0.168-0.18,0.242-0.343,0.242h-1.044 c-0.16,0-0.27-0.074-0.343-0.242l-2.59-5.957h-0.072v7.744c0,0.11-0.072,0.186-0.18,0.186h-1.567c-0.106,0-0.178-0.075-0.178-0.186 v-12.286H-2924.47z\" data-reactid=\"193\"></path></g></svg></span></a></span></div></div></div></div></div></div>',\n",
       " b'<script type=\"application/json\" data-iso-key=\"_0\">{\"registration\":{\"isFirstNameValid\":true,\"isLastNameValid\":true,\"isEmailValid\":true,\"isEmailSuggestionVisible\":false,\"isPasswordValid\":true,\"firstName\":\"\",\"lastName\":\"\",\"email\":\"\",\"password\":\"\",\"isFormDirty\":false,\"placeholder\":null,\"isBlankFieldValid\":true},\"config\":{\"scienceDirectEndpoint\":\"https://www.sciencedirect.com\",\"scienceDirectClassicEndpoint\":\"https://www.sciencedirect.com\",\"elsevierAuthEndpoint\":\"https://auth.elsevier.com\",\"ccsFallback\":{\"header\":{\"id\":\"staticheader\",\"html\":\"&lt;div class=\\\\\"header\\\\\" role=\\\\\"banner\\\\\"&gt;&lt;div class=\\\\\"els-header\\\\\"&gt;&lt;div class=\\\\\"els-header-sub-nav-container\\\\\"&gt;&lt;div class=\\\\\"els-header-leftside\\\\\"&gt;&lt;div class=\\\\\"els-header-wordmark\\\\\"&gt;&lt;span aria-label=\\\\\"ScienceDirect\\\\\" class=\\\\\"ccs-icon svg-wordmark-sciencedirect-orange\\\\\"&gt;&lt;span class=\\\\\"svg-text\\\\\"&gt;ScienceDirect&lt;/span&gt;&lt;/span&gt;&lt;/div&gt;&lt;/div&gt;&lt;div class=\\\\\"els-header-sub-nav\\\\\"&gt;&lt;ul class=\\\\\"els-header-icons\\\\\"&gt;&lt;li class=\\\\\"Help els-header-icons-item\\\\\"&gt;&lt;a id=\\\\\"ccs-help-link\\\\\" class=\\\\\"link-inherit els-header-help\\\\\" href=\\\\\"http://help.sciencedirect.com/flare/sdhelp_Left.htm#CSHID=home.htm\\\\\" title=\\\\\"Help\\\\\" target=\\\\\"_blank\\\\\"&gt;&lt;span aria-label=\\\\\"Help\\\\\" class=\\\\\"ccs-icon svg-help\\\\\"&gt;&lt;span class=\\\\\"svg-text\\\\\"&gt;Help&lt;/span&gt;&lt;/span&gt;&lt;/a&gt;&lt;/li&gt;&lt;/ul&gt;&lt;/div&gt;&lt;/div&gt;&lt;/div&gt;&lt;/div&gt;\",\"js\":\"//sdfestaticassets-us-east-1.sciencedirectassets.com/prod/7032e05c5c0b6ab4860e163c162d4d4c7c8842c5/client.js\",\"css\":\"//sdfestaticassets-us-east-1.sciencedirectassets.com/prod/7032e05c5c0b6ab4860e163c162d4d4c7c8842c5/style.css\"},\"footer\":{\"id\":\"footer\",\"html\":\"&lt;div class=\\\\\"Footer\\\\\" role=\\\\\"contentinfo\\\\\"&gt;&lt;div class=\\\\\"els-footer\\\\\"&gt;&lt;div class=\\\\\"els-footer-body\\\\\"&gt;&lt;a class=\\\\\"els-footer-elsevier\\\\\" href=\\\\\"http://www.elsevier.com/\\\\\" rel=\\\\\"nofollow\\\\\" target=\\\\\"_blank\\\\\"&gt;&lt;span class=\\\\\"ccs-icon svg-wordmark-elsevier\\\\\" aria-label=\\\\\"Elsevier\\\\\"&gt;&lt;span class=\\\\\"svg-text\\\\\"&gt;Elsevier&lt;/span&gt;&lt;/span&gt;&lt;/a&gt;&lt;div class=\\\\\"els-footer-content\\\\\"&gt;&lt;div class=\\\\\"els-footer-links\\\\\"&gt;&lt;a class=\\\\\"link-inherit\\\\\" href=\\\\\"http://www.elsevier.com/solutions/sciencedirect\\\\\" rel=\\\\\"nofollow\\\\\" target=\\\\\"_blank\\\\\"&gt;About ScienceDirect&lt;/a&gt;&lt;wbr/&gt;&lt;a class=\\\\\"link-inherit\\\\\" href=\\\\\"/science/activateaccess\\\\\" rel=\\\\\"nofollow\\\\\" target=\\\\\"_blank\\\\\"&gt;Remote access&lt;/a&gt;&lt;wbr/&gt;&lt;a class=\\\\\"link-inherit\\\\\" href=\\\\\"/science?_ob=ShoppingCartURL&amp;_method=display&amp;_zone=TopNavBar&amp;_origin=home&amp;md5=0b30939c550233b4c6f3239565c7f90d\\\\\" rel=\\\\\"nofollow\\\\\" target=\\\\\"_blank\\\\\"&gt;Shopping cart&lt;/a&gt;&lt;wbr/&gt;&lt;a class=\\\\\"link-inherit\\\\\" href=\\\\\"https://service.elsevier.com/app/contact/supporthub/sciencedirect\\\\\" rel=\\\\\"nofollow\\\\\" target=\\\\\"_blank\\\\\"&gt;Contact and support&lt;/a&gt;&lt;wbr/&gt;&lt;a class=\\\\\"link-inherit\\\\\" href=\\\\\"https://www.elsevier.com/legal/elsevier-website-terms-and-conditions\\\\\" rel=\\\\\"nofollow\\\\\" target=\\\\\"_blank\\\\\"&gt;Terms and conditions&lt;/a&gt;&lt;wbr/&gt;&lt;a class=\\\\\"link-inherit\\\\\" href=\\\\\"http://www.elsevier.com/legal/privacy-policy\\\\\" rel=\\\\\"nofollow\\\\\" target=\\\\\"_blank\\\\\"&gt;Privacy policy&lt;/a&gt;&lt;/div&gt;&lt;div class=\\\\\"els-footer-cookie\\\\\"&gt;Cookies are used by this site. For more information, visit the &lt;a class=\\\\\"link-blue\\\\\" href=\\\\\"https://www.elsevier.com/solutions/sciencedirect/support/cookies\\\\\" rel=\\\\\"nofollow\\\\\" target=\\\\\"_blank\\\\\"&gt;cookies page&lt;/a&gt;.&lt;/div&gt;&lt;div class=\\\\\"els-footer-copyright\\\\\"&gt;Copyright \\xc2\\xa9 &lt;span class=\\\\\"copyright-year\\\\\"&gt;2017&lt;/span&gt; Elsevier B.V. or its licensors or contributors. ScienceDirect \\xc2\\xae is a registered trademark of Elsevier B.V.&lt;/div&gt;&lt;/div&gt;&lt;/div&gt;&lt;div class=\\\\\"els-footer-relx-group\\\\\"&gt;&lt;a class=\\\\\"els-footer-relx\\\\\" href=\\\\\"http://www.relx.com/\\\\\" rel=\\\\\"nofollow\\\\\" target=\\\\\"_blank\\\\\"&gt;&lt;span class=\\\\\"ccs-icon svg-wordmark-relx-group\\\\\" aria-label=\\\\\"RELX Group\\\\\"&gt;&lt;span class=\\\\\"svg-text\\\\\"&gt;RELX Group&lt;/span&gt;&lt;/span&gt;&lt;/a&gt;&lt;/div&gt;&lt;/div&gt;&lt;/div&gt;\",\"js\":\"//sdfestaticassets-us-east-1.sciencedirectassets.com/prod/7032e05c5c0b6ab4860e163c162d4d4c7c8842c5/client.js\",\"css\":\"//sdfestaticassets-us-east-1.sciencedirectassets.com/prod/7032e05c5c0b6ab4860e163c162d4d4c7c8842c5/style.css\"}},\"filteredParams\":{},\"assetBasePath\":\"https://sdfestaticassets-us-east-1.sciencedirectassets.com/prod/2efdf6e3b3bfafb2a279f3a295538060ed05b2c8/\",\"reactHeaderFooterConfig\":{\"config\":{\"helpUrl\":\"https://service.elsevier.com/app/home/supporthub/sciencedirect/\",\"contactUrl\":\"https://service.elsevier.com/app/contact/supporthub/sciencedirect/\",\"userName\":\"\",\"orgName\":\"\",\"webUserId\":\"2387607\",\"libraryBanner\":{\"libraryBannerText\":\"Universitaetsbibliothek Kiel\",\"position\":\"RIGHT\"},\"shib_regUrl\":\"\",\"tick_regUrl\":\"\",\"recentInstitutions\":[],\"canActivatePersonalization\":false,\"hasMultiOrg\":false,\"userType\":\"IPRANGE\",\"allowCart\":true},\"staticHeader\":false,\"requestPath\":\"/user/error\"},\"featureFlagForRHF\":true,\"expectedErrorCodePrefixes\":[\"ATN\",\"ATP\",\"ENT\",\"ILP\",\"PUP\",\"PUR\",\"SPDF\",\"GURL\"]},\"password\":{\"showForm\":true,\"isLoading\":false,\"currentPassword\":\"\",\"isCurrentPasswordValid\":false,\"newPassword\":\"\",\"isNewPasswordValid\":false,\"newPasswordConfirmation\":\"\",\"isNewPasswordConfirmationValid\":false,\"successMessage\":\"\",\"errorMessages\":{\"general\":[],\"currentPassword\":[],\"newPassword\":[],\"newPasswordConfirmation\":[]}},\"commonComponents\":{},\"login\":{\"isUsernameValid\":true,\"isPasswordValid\":true,\"username\":\"\",\"password\":\"\",\"isFormDirty\":false},\"chooseorg\":{\"showForm\":false,\"isLoading\":true,\"organizationList\":[],\"showError\":false,\"submitSuccessful\":false,\"choiceAvailable\":true}}</script></div>',\n",
       " b'              <script src=\"https://sdfestaticassets-us-east-1.sciencedirectassets.com/shared-assets/5/js/react/15.5.4/react.min.js\" type=\"text/javascript\"></script>',\n",
       " b'              <script src=\"https://sdfestaticassets-us-east-1.sciencedirectassets.com/shared-assets/5/js/react-dom/15.5.4/react-dom.min.js\" type=\"text/javascript\"></script>',\n",
       " b'              <script defer src=https://sdfestaticassets-us-east-1.sciencedirectassets.com/prod/2efdf6e3b3bfafb2a279f3a295538060ed05b2c8/client.js></script>',\n",
       " b'              <!-- begin usabilla live embed code -->',\n",
       " b'      <script type=\"text/javascript\" >',\n",
       " b'        window.lightningjs||function(c){function g(b,d){d&&(d+=(/\\\\?/.test(d)?\"&\":\"?\")+\"lv=1\");c[b]||function(){var i=window,h=document,j=b,g=h.location.protocol,l=\"load\",k=0;(function(){function b(){a.P(l);a.w=1;c[j](\"_load\")}c[j]=function(){function m(){m.id=e;return c[j].apply(m,arguments)}var b,e=++k;b=this&&this!=i?this.id||0:0;(a.s=a.s||[]).push([e,b,arguments]);m.then=function(b,c,h){var d=a.fh[e]=a.fh[e]||[],j=a.eh[e]=a.eh[e]||[],f=a.ph[e]=a.ph[e]||[];b&&d.push(b);c&&j.push(c);h&&f.push(h);return m};return m};var a=c[j]._={};a.fh={};a.eh={};a.ph={};a.l=d?d.replace(/^\\\\/\\\\//,(g==\"https:\"?g:\"http:\")+\"//\"):d;a.p={0:+new Date};a.P=function(b){a.p[b]=new Date-a.p[0]};a.w&&b();i.addEventListener?i.addEventListener(l,b,!1):i.attachEvent(\"on\"+l,b);var q=function(){function b(){return[\"<head></head><\",c,\\' onload=\"var d=\\',n,\";d.getElementsByTagName(\\'head\\')[0].\",d,\"(d.\",g,\"(\\'script\\')).\",i,\"=\\'\",a.l,\"\\'\\\\\"></\",c,\">\"].join(\"\")}var c=\"body\",e=h[c];if(!e)return setTimeout(q,100);a.P(1);var d=\"appendChild\",g=\"createElement\",i=\"src\",k=h[g](\"div\"),l=k[d](h[g](\"div\")),f=h[g](\"iframe\"),n=\"document\",p;k.style.display=\"none\";e.insertBefore(k,e.firstChild).id=o+\"-\"+j;f.frameBorder=\"0\";f.id=o+\"-frame-\"+j;/MSIE[ ]+6/.test(navigator.userAgent)&&(f[i]=\"javascript:false\");f.allowTransparency=\"true\";l[d](f);try{f.contentWindow[n].open()}catch(s){a.domain=h.domain,p=\"javascript:var d=\"+n+\".open();d.domain=\\'\"+h.domain+\"\\';\",f[i]=p+\"void(0);\"}try{var r=f.contentWindow[n];r.write(b());r.close()}catch(t){f[i]=p+\\'d.write(\"\\'+b().replace(/\"/g,String.fromCharCode(92)+\\'\"\\')+\\'\");d.close();\\'}a.P(2)};a.l&&setTimeout(q,0)})()}();c[b].lv=\"1\";return c[b]}var o=\"lightningjs\",k=window[o]=g(o);k.require=g;k.modules=c}({});',\n",
       " b'        window.usabilla_live = lightningjs.require(\"usabilla_live\", \"https://w.usabilla.com/eb1c14a91932.js\");',\n",
       " b'        var customData = {};',\n",
       " b'',\n",
       " b'        if(window.pageData && pageData.content && pageData.content[0]) {',\n",
       " b'          customData.entitlementType = pageData.content[0].entitlementType;',\n",
       " b'        }',\n",
       " b'        if(window.pageData && pageData.visitor) {',\n",
       " b'          customData.accessType = pageData.visitor.accessType;',\n",
       " b'          customData.accountId = pageData.visitor.accountId;',\n",
       " b'          customData.loginStatus = pageData.visitor.loginStatus;',\n",
       " b'        }',\n",
       " b'        usabilla_live(\"data\", {\"custom\": customData });',\n",
       " b'      </script>',\n",
       " b'      <!-- end usabilla live embed code -->',\n",
       " b'              <script>',\n",
       " b'                var sdm = {}',\n",
       " b\"                usabilla_live('data', { 'custom': sdm });\",\n",
       " b'              </script>',\n",
       " b'              ',\n",
       " b'              ',\n",
       " b'          </body>',\n",
       " b'      </html>']"
      ]
     },
     "execution_count": 73,
     "metadata": {},
     "output_type": "execute_result"
    }
   ],
   "source": [
    "<a class=\"anchor\" href=\"/science/article/pii/S0377027312001448/pdfft?md5=6db53957edf22d0f5a49fa0250e6be31&amp;pid=1-s2.0-S0377027312001448-main.pdf\" target=\"_blank\" rel=\"nofollow\" aria-expanded=\"true\" aria-live=\"polite\" aria-label=\"Download single PDF. Opens in a new window.\"><svg focusable=\"false\" viewBox=\"0 0 32 32\" width=\"24\" height=\"24\" class=\"icon icon-pdf-multicolor\"><path d=\"M7 .362h17.875l6.763 6.1V31.64H6.948V16z\" stroke=\"#000\" stroke-width=\".703\" fill=\"#fff\"></path><path d=\"M.167 2.592H22.39V9.72H.166z\" stroke=\"#aaa\" stroke-width=\".315\" fill=\"#da0000\"></path><path fill=\"#fff9f9\" d=\"M5.97 3.638h1.62c1.053 0 1.483.677 1.488 1.564.008.96-.6 1.564-1.492 1.564h-.644v1.66h-.977V3.64m.977.897v1.34h.542c.27 0 .596-.068.596-.673-.002-.6-.32-.667-.596-.667h-.542m3.8.036v2.92h.35c.933 0 1.223-.448 1.228-1.462.008-1.06-.316-1.45-1.23-1.45h-.347m-.977-.94h1.03c1.68 0 2.523.586 2.534 2.39.01 1.688-.607 2.4-2.534 2.4h-1.03V3.64m4.305 0h2.63v.934h-1.657v.894H16.6V6.4h-1.56v2.026h-.97V3.638\"></path><path d=\"M19.462 13.46c.348 4.274-6.59 16.72-8.508 15.792-1.82-.85 1.53-3.317 2.92-4.366-2.864.894-5.394 3.252-3.837 3.93 2.113.895 7.048-9.25 9.41-15.394zM14.32 24.874c4.767-1.526 14.735-2.974 15.152-1.407.824-3.157-13.72-.37-15.153 1.407zm5.28-5.043c2.31 3.237 9.816 7.498 9.788 3.82-.306 2.046-6.66-1.097-8.925-4.164-4.087-5.534-2.39-8.772-1.682-8.732.917.047 1.074 1.307.67 2.442-.173-1.406-.58-2.44-1.224-2.415-1.835.067-1.905 4.46 1.37 9.065z\" fill=\"#f91d0a\"></path></svg><span class=\"anchor-text\">Article</span></a>"
   ]
  },
  {
   "cell_type": "code",
   "execution_count": null,
   "metadata": {},
   "outputs": [],
   "source": []
  }
 ],
 "metadata": {
  "kernelspec": {
   "display_name": "Python 3",
   "language": "python",
   "name": "python3"
  },
  "language_info": {
   "codemirror_mode": {
    "name": "ipython",
    "version": 3
   },
   "file_extension": ".py",
   "mimetype": "text/x-python",
   "name": "python",
   "nbconvert_exporter": "python",
   "pygments_lexer": "ipython3",
   "version": "3.5.3"
  }
 },
 "nbformat": 4,
 "nbformat_minor": 2
}
